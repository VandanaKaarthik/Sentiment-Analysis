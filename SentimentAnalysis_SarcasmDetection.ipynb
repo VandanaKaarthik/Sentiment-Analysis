{
 "cells": [
  {
   "cell_type": "markdown",
   "id": "9c8d4c0d-d870-4675-a918-3863726d3c22",
   "metadata": {
    "id": "9c8d4c0d-d870-4675-a918-3863726d3c22",
    "tags": []
   },
   "source": [
    "<h1 style=\"text-align:center\">Sentiment Analysis and Sarcasm Detection</h1>"
   ]
  },
  {
   "cell_type": "code",
   "execution_count": null,
   "id": "4ccb8152-b0f3-4f96-8fdb-cb170bb6612b",
   "metadata": {
    "id": "4ccb8152-b0f3-4f96-8fdb-cb170bb6612b"
   },
   "outputs": [],
   "source": [
    "# Imports\n",
    "\n",
    "import numpy as np\n",
    "import pandas as pd\n",
    "import matplotlib.pyplot as plt\n",
    "import seaborn as sns\n",
    "%matplotlib inline \n",
    "\n",
    "import os\n",
    "import csv\n",
    "from zipfile import ZipFile\n",
    "\n",
    "from sklearn.model_selection import train_test_split, GridSearchCV\n",
    "\n",
    "from tensorflow.keras.utils import to_categorical\n",
    "from tensorflow.keras.preprocessing.text import Tokenizer\n",
    "from tensorflow.keras.preprocessing.sequence import pad_sequences\n",
    "from tensorflow.keras.initializers import Constant\n",
    "from keras.wrappers.scikit_learn import KerasClassifier\n",
    "\n",
    "from tensorflow.keras.callbacks import EarlyStopping, ModelCheckpoint, ReduceLROnPlateau\n",
    "from tensorflow.keras import losses\n",
    "from tensorflow.keras.losses import binary_crossentropy\n",
    "from tensorflow.keras import optimizers\n",
    "from tensorflow.keras.optimizers import Adam\n",
    "from tensorflow.keras import Sequential\n",
    "from tensorflow.keras.layers import Embedding, LSTM, GRU, Bidirectional, SeparableConv1D\n",
    "from tensorflow.keras.layers import Conv1D\n",
    "from tensorflow.keras.layers import MaxPooling1D\n",
    "from tensorflow.keras.layers import Dense, Activation, LeakyReLU\n",
    "from tensorflow.keras.layers import BatchNormalization, Dropout, SpatialDropout1D\n",
    "\n",
    "import warnings\n",
    "warnings.filterwarnings('ignore')"
   ]
  },
  {
   "cell_type": "code",
   "execution_count": null,
   "id": "5099dc83-d9e8-4708-a4e5-df96da0aebfe",
   "metadata": {
    "colab": {
     "base_uri": "https://localhost:8080/"
    },
    "executionInfo": {
     "elapsed": 29299,
     "status": "ok",
     "timestamp": 1670130597393,
     "user": {
      "displayName": "Vandana Kaarthik",
      "userId": "07645979193492493987"
     },
     "user_tz": -330
    },
    "id": "5099dc83-d9e8-4708-a4e5-df96da0aebfe",
    "outputId": "4dbbe754-5b19-4607-9c55-77855e68a8a8"
   },
   "outputs": [
    {
     "name": "stdout",
     "output_type": "stream",
     "text": [
      "Mounted at /content/drive\n"
     ]
    }
   ],
   "source": [
    "from google.colab import drive\n",
    "drive.mount('/content/drive')"
   ]
  },
  {
   "cell_type": "markdown",
   "id": "0c7c9fee-39fe-4d12-847a-7bc8ae6f5934",
   "metadata": {
    "id": "0c7c9fee-39fe-4d12-847a-7bc8ae6f5934"
   },
   "source": [
    "### Part A - Sentiment Analysis:\n",
    "***"
   ]
  },
  {
   "cell_type": "markdown",
   "id": "22a590df-a7e0-4656-afb1-5bb782b36d90",
   "metadata": {
    "id": "22a590df-a7e0-4656-afb1-5bb782b36d90"
   },
   "source": [
    "<h4 style=\"color:indianred\"><em>1. <ins>Importing and analysing the data set:</ins></em></h4>"
   ]
  },
  {
   "cell_type": "code",
   "execution_count": null,
   "id": "b86256c1-67f9-42fe-8d0b-97eaf17b65d3",
   "metadata": {
    "colab": {
     "base_uri": "https://localhost:8080/"
    },
    "executionInfo": {
     "elapsed": 6735,
     "status": "ok",
     "timestamp": 1670146556685,
     "user": {
      "displayName": "Vandana Kaarthik",
      "userId": "07645979193492493987"
     },
     "user_tz": -330
    },
    "id": "b86256c1-67f9-42fe-8d0b-97eaf17b65d3",
    "outputId": "6caa33d9-d5ce-4d75-d732-112803f57655"
   },
   "outputs": [
    {
     "name": "stdout",
     "output_type": "stream",
     "text": [
      "Downloading data from https://storage.googleapis.com/tensorflow/tf-keras-datasets/imdb.npz\n",
      "17464789/17464789 [==============================] - 1s 0us/step\n"
     ]
    }
   ],
   "source": [
    "# Importing the dataset with 10000 most frequent words\n",
    "\n",
    "from keras.datasets import imdb\n",
    "\n",
    "# Keras default parameters\n",
    "start_char = 1\n",
    "oov_char = 2\n",
    "index_from = 3\n",
    "\n",
    "(X_train, y_train),(X_test, y_test) = imdb.load_data(num_words=10000,\n",
    "                                                                             start_char=start_char, # start of sequence character\n",
    "                                                                             oov_char=oov_char, # out-of-vocabulary character\n",
    "                                                                             index_from=index_from) # index from which the vocabulary starts"
   ]
  },
  {
   "cell_type": "code",
   "execution_count": null,
   "id": "438aae79-51fa-4c0f-a9c1-f6c2d65b07c8",
   "metadata": {
    "colab": {
     "base_uri": "https://localhost:8080/"
    },
    "executionInfo": {
     "elapsed": 781,
     "status": "ok",
     "timestamp": 1669800036636,
     "user": {
      "displayName": "Vandana Kaarthik",
      "userId": "07645979193492493987"
     },
     "user_tz": -330
    },
    "id": "438aae79-51fa-4c0f-a9c1-f6c2d65b07c8",
    "outputId": "e650e894-5009-45f4-e1ee-7627697c04f2"
   },
   "outputs": [
    {
     "name": "stdout",
     "output_type": "stream",
     "text": [
      "(25000,)\n",
      "(25000,)\n",
      "(25000,)\n",
      "(25000,)\n"
     ]
    }
   ],
   "source": [
    "# Checking the dimensions of the dataset\n",
    "\n",
    "print(X_train.shape)\n",
    "print(X_test.shape)\n",
    "print(y_train.shape)\n",
    "print(y_test.shape)"
   ]
  },
  {
   "cell_type": "code",
   "execution_count": null,
   "id": "mf_4IyqvBNH6",
   "metadata": {
    "colab": {
     "base_uri": "https://localhost:8080/"
    },
    "executionInfo": {
     "elapsed": 539,
     "status": "ok",
     "timestamp": 1669800070973,
     "user": {
      "displayName": "Vandana Kaarthik",
      "userId": "07645979193492493987"
     },
     "user_tz": -330
    },
    "id": "mf_4IyqvBNH6",
    "outputId": "55eff5b3-06d4-4a07-8543-16b8661b4f42"
   },
   "outputs": [
    {
     "data": {
      "text/plain": [
       "array([list([1, 14, 22, 16, 43, 530, 973, 1622, 1385, 65, 458, 4468, 66, 3941, 4, 173, 36, 256, 5, 25, 100, 43, 838, 112, 50, 670, 2, 9, 35, 480, 284, 5, 150, 4, 172, 112, 167, 2, 336, 385, 39, 4, 172, 4536, 1111, 17, 546, 38, 13, 447, 4, 192, 50, 16, 6, 147, 2025, 19, 14, 22, 4, 1920, 4613, 469, 4, 22, 71, 87, 12, 16, 43, 530, 38, 76, 15, 13, 1247, 4, 22, 17, 515, 17, 12, 16, 626, 18, 2, 5, 62, 386, 12, 8, 316, 8, 106, 5, 4, 2223, 5244, 16, 480, 66, 3785, 33, 4, 130, 12, 16, 38, 619, 5, 25, 124, 51, 36, 135, 48, 25, 1415, 33, 6, 22, 12, 215, 28, 77, 52, 5, 14, 407, 16, 82, 2, 8, 4, 107, 117, 5952, 15, 256, 4, 2, 7, 3766, 5, 723, 36, 71, 43, 530, 476, 26, 400, 317, 46, 7, 4, 2, 1029, 13, 104, 88, 4, 381, 15, 297, 98, 32, 2071, 56, 26, 141, 6, 194, 7486, 18, 4, 226, 22, 21, 134, 476, 26, 480, 5, 144, 30, 5535, 18, 51, 36, 28, 224, 92, 25, 104, 4, 226, 65, 16, 38, 1334, 88, 12, 16, 283, 5, 16, 4472, 113, 103, 32, 15, 16, 5345, 19, 178, 32]),\n",
       "       list([1, 194, 1153, 194, 8255, 78, 228, 5, 6, 1463, 4369, 5012, 134, 26, 4, 715, 8, 118, 1634, 14, 394, 20, 13, 119, 954, 189, 102, 5, 207, 110, 3103, 21, 14, 69, 188, 8, 30, 23, 7, 4, 249, 126, 93, 4, 114, 9, 2300, 1523, 5, 647, 4, 116, 9, 35, 8163, 4, 229, 9, 340, 1322, 4, 118, 9, 4, 130, 4901, 19, 4, 1002, 5, 89, 29, 952, 46, 37, 4, 455, 9, 45, 43, 38, 1543, 1905, 398, 4, 1649, 26, 6853, 5, 163, 11, 3215, 2, 4, 1153, 9, 194, 775, 7, 8255, 2, 349, 2637, 148, 605, 2, 8003, 15, 123, 125, 68, 2, 6853, 15, 349, 165, 4362, 98, 5, 4, 228, 9, 43, 2, 1157, 15, 299, 120, 5, 120, 174, 11, 220, 175, 136, 50, 9, 4373, 228, 8255, 5, 2, 656, 245, 2350, 5, 4, 9837, 131, 152, 491, 18, 2, 32, 7464, 1212, 14, 9, 6, 371, 78, 22, 625, 64, 1382, 9, 8, 168, 145, 23, 4, 1690, 15, 16, 4, 1355, 5, 28, 6, 52, 154, 462, 33, 89, 78, 285, 16, 145, 95])],\n",
       "      dtype=object)"
      ]
     },
     "execution_count": 7,
     "metadata": {},
     "output_type": "execute_result"
    }
   ],
   "source": [
    "X_train[:2]"
   ]
  },
  {
   "cell_type": "code",
   "execution_count": null,
   "id": "towlwgXMBQhm",
   "metadata": {
    "colab": {
     "base_uri": "https://localhost:8080/"
    },
    "executionInfo": {
     "elapsed": 553,
     "status": "ok",
     "timestamp": 1669800076076,
     "user": {
      "displayName": "Vandana Kaarthik",
      "userId": "07645979193492493987"
     },
     "user_tz": -330
    },
    "id": "towlwgXMBQhm",
    "outputId": "5732ed73-c2b4-4512-cfc0-c0ab841864a1"
   },
   "outputs": [
    {
     "data": {
      "text/plain": [
       "array([1, 0])"
      ]
     },
     "execution_count": 8,
     "metadata": {},
     "output_type": "execute_result"
    }
   ],
   "source": [
    "y_train[:2]"
   ]
  },
  {
   "cell_type": "code",
   "execution_count": null,
   "id": "iTyqQSNLuz14",
   "metadata": {
    "colab": {
     "base_uri": "https://localhost:8080/",
     "height": 268
    },
    "executionInfo": {
     "elapsed": 865,
     "status": "ok",
     "timestamp": 1669800081408,
     "user": {
      "displayName": "Vandana Kaarthik",
      "userId": "07645979193492493987"
     },
     "user_tz": -330
    },
    "id": "iTyqQSNLuz14",
    "outputId": "32af014d-cbc3-4e08-9935-960b16c63360"
   },
   "outputs": [
    {
     "data": {
      "image/png": "[encoded data removed]",
      "text/plain": [
       "<Figure size 432x288 with 1 Axes>"
      ]
     },
     "metadata": {},
     "output_type": "display_data"
    }
   ],
   "source": [
    "# Distribution of the target variable in the train dataset\n",
    "\n",
    "sns.set_theme(style=\"darkgrid\")\n",
    "sns.set_context('notebook')\n",
    "sns.countplot(x=y_train)\n",
    "plt.show()"
   ]
  },
  {
   "cell_type": "code",
   "execution_count": null,
   "id": "w9m1sKaOu16L",
   "metadata": {
    "colab": {
     "base_uri": "https://localhost:8080/",
     "height": 268
    },
    "executionInfo": {
     "elapsed": 582,
     "status": "ok",
     "timestamp": 1669800087246,
     "user": {
      "displayName": "Vandana Kaarthik",
      "userId": "07645979193492493987"
     },
     "user_tz": -330
    },
    "id": "w9m1sKaOu16L",
    "outputId": "6d0f8d6b-2cd2-4432-e5f8-106b457d2459"
   },
   "outputs": [
    {
     "data": {
      "image/png": "[encoded data removed]",
      "text/plain": [
       "<Figure size 432x288 with 1 Axes>"
      ]
     },
     "metadata": {},
     "output_type": "display_data"
    }
   ],
   "source": [
    "# Distribution of the target variable in the test dataset\n",
    "\n",
    "sns.set_theme(style=\"darkgrid\")\n",
    "sns.set_context('notebook')\n",
    "sns.countplot(x=y_test)\n",
    "plt.show()"
   ]
  },
  {
   "cell_type": "markdown",
   "id": "O8o7lkaI19hz",
   "metadata": {
    "id": "O8o7lkaI19hz"
   },
   "source": [
    "<em><strong>Observation:</strong></em>\n",
    "Upon comparing the above 2 distributions, it is evident that the target class is well balanced for both the train and the test datasets."
   ]
  },
  {
   "cell_type": "code",
   "execution_count": null,
   "id": "xzCVUP3E-743",
   "metadata": {
    "id": "xzCVUP3E-743"
   },
   "outputs": [],
   "source": [
    "# Function to return the median number of words per sample\n",
    "\n",
    "def get_num_words_per_sample(sample_texts):\n",
    "    \"\"\"Return the median number of words per sample.\n",
    "\n",
    "    Args:\n",
    "        sample_texts (list): list of texts.\n",
    "\n",
    "    Returns:\n",
    "        (int): median number of words per sample.\n",
    "    \"\"\"\n",
    "    num_words = [len(s) for s in sample_texts]\n",
    "    return np.median(num_words)\n"
   ]
  },
  {
   "cell_type": "code",
   "execution_count": null,
   "id": "JW_4-9EF2gOw",
   "metadata": {
    "colab": {
     "base_uri": "https://localhost:8080/"
    },
    "executionInfo": {
     "elapsed": 615,
     "status": "ok",
     "timestamp": 1669800792352,
     "user": {
      "displayName": "Vandana Kaarthik",
      "userId": "07645979193492493987"
     },
     "user_tz": -330
    },
    "id": "JW_4-9EF2gOw",
    "outputId": "d22cc01b-f5db-43e6-9bc8-9531e1afdc3f"
   },
   "outputs": [
    {
     "name": "stdout",
     "output_type": "stream",
     "text": [
      "Number of words per sample:\n",
      "X_train: 178.0\n",
      "X_test: 174.0\n"
     ]
    }
   ],
   "source": [
    "# Number of words per sample for X_train and X_test\n",
    "\n",
    "print('Number of words per sample:')\n",
    "print(f'X_train: {get_num_words_per_sample(X_train)}')\n",
    "print(f'X_test: {get_num_words_per_sample(X_test)}')"
   ]
  },
  {
   "cell_type": "code",
   "execution_count": null,
   "id": "626fc2levBkk",
   "metadata": {
    "id": "626fc2levBkk"
   },
   "outputs": [],
   "source": [
    "# Function to plot the distribution of the sample lengths\n",
    "\n",
    "def plot_sample_length_distribution(sample_texts):\n",
    "    \"\"\"Plot the distribution of the sample lengths.\n",
    "\n",
    "    Args:\n",
    "        sample_texts(list): List of texts.\n",
    "    \"\"\"\n",
    "    sns.set_style('darkgrid')\n",
    "    sns.set_context('notebook')\n",
    "    plt.hist([len(s) for s in sample_texts], 50, color='palevioletred')\n",
    "    plt.xlabel('Length of a sample')\n",
    "    plt.ylabel('Number of samples')\n",
    "    plt.title('Sample length distribution')\n",
    "    plt.show()"
   ]
  },
  {
   "cell_type": "code",
   "execution_count": null,
   "id": "ibagEWJN3Y93",
   "metadata": {
    "colab": {
     "base_uri": "https://localhost:8080/",
     "height": 301
    },
    "executionInfo": {
     "elapsed": 634,
     "status": "ok",
     "timestamp": 1669800827346,
     "user": {
      "displayName": "Vandana Kaarthik",
      "userId": "07645979193492493987"
     },
     "user_tz": -330
    },
    "id": "ibagEWJN3Y93",
    "outputId": "a627568b-65e4-4946-b92d-ed6bcfe531ff"
   },
   "outputs": [
    {
     "data": {
      "image/png": "[encoded data removed]",
      "text/plain": [
       "<Figure size 432x288 with 1 Axes>"
      ]
     },
     "metadata": {},
     "output_type": "display_data"
    }
   ],
   "source": [
    "# Sample Length Distribution of X_train\n",
    "\n",
    "plot_sample_length_distribution(X_train)"
   ]
  },
  {
   "cell_type": "code",
   "execution_count": null,
   "id": "oNwbt7Zb4p14",
   "metadata": {
    "colab": {
     "base_uri": "https://localhost:8080/",
     "height": 301
    },
    "executionInfo": {
     "elapsed": 622,
     "status": "ok",
     "timestamp": 1669800850072,
     "user": {
      "displayName": "Vandana Kaarthik",
      "userId": "07645979193492493987"
     },
     "user_tz": -330
    },
    "id": "oNwbt7Zb4p14",
    "outputId": "f203b9cc-96fe-4b28-e5e9-9bf700d1da78"
   },
   "outputs": [
    {
     "data": {
      "image/png": "[encoded data removed]",
      "text/plain": [
       "<Figure size 432x288 with 1 Axes>"
      ]
     },
     "metadata": {},
     "output_type": "display_data"
    }
   ],
   "source": [
    "# Sample Length Distribution of X_test\n",
    "\n",
    "plot_sample_length_distribution(X_test)"
   ]
  },
  {
   "cell_type": "markdown",
   "id": "7QQzsIig40-R",
   "metadata": {
    "id": "7QQzsIig40-R"
   },
   "source": [
    "<em><strong>Observation:</strong></em>\n",
    "From the above analysis and distributions, it is evident that the `number of words per sample` and the `Sample Length Distributions` are very similar for both the train and the test data."
   ]
  },
  {
   "cell_type": "markdown",
   "id": "be66b312-8e5c-48fb-8585-4c4e45ddf1e6",
   "metadata": {
    "id": "be66b312-8e5c-48fb-8585-4c4e45ddf1e6"
   },
   "source": [
    "<h4 style=\"color:indianred\"><em>2. <ins>Performing relevant sequence adding to the data:</ins></em></h4>"
   ]
  },
  {
   "cell_type": "code",
   "execution_count": null,
   "id": "70IBniufvLF6",
   "metadata": {
    "colab": {
     "base_uri": "https://localhost:8080/"
    },
    "executionInfo": {
     "elapsed": 343,
     "status": "ok",
     "timestamp": 1670126825447,
     "user": {
      "displayName": "Vandana Kaarthik",
      "userId": "07645979193492493987"
     },
     "user_tz": -330
    },
    "id": "70IBniufvLF6",
    "outputId": "a07286af-b322-4c47-987a-731b397f2368"
   },
   "outputs": [
    {
     "name": "stdout",
     "output_type": "stream",
     "text": [
      "Number of words in the train samples: (218, 189)\n",
      "Number of words in the test samples: (68, 260)\n"
     ]
    }
   ],
   "source": [
    "# Checking the length of a few samples\n",
    "\n",
    "print(f\"Number of words in the train samples: ({len(X_train[0])}, {len(X_train[1])})\")\n",
    "print(f\"Number of words in the test samples: ({len(X_test[0])}, {len(X_test[1])})\")"
   ]
  },
  {
   "cell_type": "markdown",
   "id": "ycDobuoVvfic",
   "metadata": {
    "id": "ycDobuoVvfic"
   },
   "source": [
    "<em><strong>Observation:</strong></em>\n",
    "The samples seem to have different sequence lengths. "
   ]
  },
  {
   "cell_type": "code",
   "execution_count": null,
   "id": "wRXH81_dHvdQ",
   "metadata": {
    "id": "wRXH81_dHvdQ"
   },
   "outputs": [],
   "source": [
    "# Defining the parameters\n",
    "\n",
    "# Using the first 60 words from each review as text length\n",
    "max_seq_len = 60\n",
    "\n",
    "# Using a max vocabulary size of 10000 (as mentioned in the Data Description)\n",
    "max_vocab_size = 10000\n",
    "\n",
    "# Dimension of the word embeddings\n",
    "embedding_dim = 100"
   ]
  },
  {
   "cell_type": "code",
   "execution_count": null,
   "id": "0T0FU2xTBJ1G",
   "metadata": {
    "id": "0T0FU2xTBJ1G"
   },
   "outputs": [],
   "source": [
    "# Padding the sequences of train and test data to make all the sequences have the same lengths\n",
    "\n",
    "X_train_padded = pad_sequences(X_train, maxlen=max_seq_len, padding='post', truncating='post')\n",
    "X_test_padded = pad_sequences(X_test, maxlen=max_seq_len, padding='post', truncating='post')"
   ]
  },
  {
   "cell_type": "code",
   "execution_count": null,
   "id": "jSd2kKHdDiD1",
   "metadata": {
    "colab": {
     "base_uri": "https://localhost:8080/"
    },
    "executionInfo": {
     "elapsed": 442,
     "status": "ok",
     "timestamp": 1670146581072,
     "user": {
      "displayName": "Vandana Kaarthik",
      "userId": "07645979193492493987"
     },
     "user_tz": -330
    },
    "id": "jSd2kKHdDiD1",
    "outputId": "2f90d335-7d12-4476-858c-09887e7cf374"
   },
   "outputs": [
    {
     "name": "stdout",
     "output_type": "stream",
     "text": [
      "(25000, 60)\n",
      "(25000, 60)\n"
     ]
    }
   ],
   "source": [
    "# Shape of the padded data\n",
    "\n",
    "print(X_train_padded.shape)\n",
    "print(X_test_padded.shape)"
   ]
  },
  {
   "cell_type": "markdown",
   "id": "3b40eff6-00cc-4aa9-a3e8-a947fc3b0e9d",
   "metadata": {
    "id": "3b40eff6-00cc-4aa9-a3e8-a947fc3b0e9d"
   },
   "source": [
    "<h4 style=\"color:indianred\"><em>3. <ins>Performing data analysis:</ins></em></h4>"
   ]
  },
  {
   "cell_type": "code",
   "execution_count": null,
   "id": "thv2fL70ePiB",
   "metadata": {
    "id": "thv2fL70ePiB"
   },
   "outputs": [],
   "source": [
    "# Reshaping the train and the test labels\n",
    "\n",
    "y_train_reshaped = y_train.reshape(-1,1)\n",
    "y_test_reshaped = y_test.reshape(-1,1)"
   ]
  },
  {
   "cell_type": "code",
   "execution_count": null,
   "id": "11ce59ee-302a-48f7-9c62-0fcc7e6a5dfc",
   "metadata": {
    "colab": {
     "base_uri": "https://localhost:8080/"
    },
    "executionInfo": {
     "elapsed": 7,
     "status": "ok",
     "timestamp": 1670130006708,
     "user": {
      "displayName": "Vandana Kaarthik",
      "userId": "07645979193492493987"
     },
     "user_tz": -330
    },
    "id": "11ce59ee-302a-48f7-9c62-0fcc7e6a5dfc",
    "outputId": "1a0f0e15-bb03-4334-9488-15402f29cca9"
   },
   "outputs": [
    {
     "name": "stdout",
     "output_type": "stream",
     "text": [
      "Shape of features:\n",
      "X train: (25000, 60)\n",
      "X test: (25000, 60)\n",
      "\n",
      "Shape of labels:\n",
      "y train: (25000, 1)\n",
      "y test: (25000, 1)\n"
     ]
    }
   ],
   "source": [
    "# Printing the shape of features and labels\n",
    "\n",
    "print(f'Shape of features:')\n",
    "print(f'X train: {X_train_padded.shape}')\n",
    "print(f'X test: {X_test_padded.shape}\\n')\n",
    "print(f'Shape of labels:')\n",
    "print(f'y train: {y_train_reshaped.shape}')\n",
    "print(f'y test: {y_test_reshaped.shape}')"
   ]
  },
  {
   "cell_type": "markdown",
   "id": "EvcbgkGF7CgD",
   "metadata": {
    "id": "EvcbgkGF7CgD"
   },
   "source": [
    "<em><strong>Observation:</strong></em>\n",
    "The IMDB movie reviews dataset has 25000 samples each for Training and Testing."
   ]
  },
  {
   "cell_type": "code",
   "execution_count": null,
   "id": "f104ea23-377e-4182-ac94-0c66036d946b",
   "metadata": {
    "colab": {
     "base_uri": "https://localhost:8080/"
    },
    "executionInfo": {
     "elapsed": 457,
     "status": "ok",
     "timestamp": 1670146591265,
     "user": {
      "displayName": "Vandana Kaarthik",
      "userId": "07645979193492493987"
     },
     "user_tz": -330
    },
    "id": "f104ea23-377e-4182-ac94-0c66036d946b",
    "outputId": "3fd1d7ec-aec2-4583-946c-842c76a7862b"
   },
   "outputs": [
    {
     "name": "stdout",
     "output_type": "stream",
     "text": [
      "Value of a feature: [   1   14   22   16   43  530  973 1622 1385   65  458 4468   66 3941\n",
      "    4  173   36  256    5   25  100   43  838  112   50  670    2    9\n",
      "   35  480  284    5  150    4  172  112  167    2  336  385   39    4\n",
      "  172 4536 1111   17  546   38   13  447    4  192   50   16    6  147\n",
      " 2025   19   14   22]\n",
      "\n",
      "Label: [1]\n"
     ]
    }
   ],
   "source": [
    "# Printing the value of any one feature and it's label\n",
    "\n",
    "print(f'Value of a feature: {X_train_padded[0]}')\n",
    "print(f'\\nLabel: {y_train_reshaped[0]}')"
   ]
  },
  {
   "cell_type": "markdown",
   "id": "4BeywF108h06",
   "metadata": {
    "id": "4BeywF108h06"
   },
   "source": [
    "<em><strong>Observation:</strong></em>\n",
    "\n",
    "X_train, X_test: In the IMDB dataset, the reviews have already been preprocessed and each review is encoded as a list of word indices.\n",
    "\n",
    "y_train, y_test: The sentiments are represented as integer labels [1(Positive) or 0(Negative)]"
   ]
  },
  {
   "cell_type": "markdown",
   "id": "af8fd75e-0d07-4bbc-991a-c73575b99f9c",
   "metadata": {
    "id": "af8fd75e-0d07-4bbc-991a-c73575b99f9c"
   },
   "source": [
    "<h4 style=\"color:indianred\"><em>4. <ins>Decoding the feature value to get original sentence:</ins></em></h4>"
   ]
  },
  {
   "cell_type": "code",
   "execution_count": null,
   "id": "_FKysMqaiaSf",
   "metadata": {
    "colab": {
     "base_uri": "https://localhost:8080/"
    },
    "executionInfo": {
     "elapsed": 549,
     "status": "ok",
     "timestamp": 1670130755970,
     "user": {
      "displayName": "Vandana Kaarthik",
      "userId": "07645979193492493987"
     },
     "user_tz": -330
    },
    "id": "_FKysMqaiaSf",
    "outputId": "722008f0-0d67-410a-dab4-36df662350c3"
   },
   "outputs": [
    {
     "name": "stdout",
     "output_type": "stream",
     "text": [
      "Downloading data from https://storage.googleapis.com/tensorflow/tf-keras-datasets/imdb_word_index.json\n",
      "1641221/1641221 [==============================] - 0s 0us/step\n"
     ]
    }
   ],
   "source": [
    "# Retrieving the word index file mapping words to indices\n",
    "\n",
    "word_index = imdb.get_word_index()"
   ]
  },
  {
   "cell_type": "code",
   "execution_count": null,
   "id": "EQLBrn5Zi6oC",
   "metadata": {
    "id": "EQLBrn5Zi6oC"
   },
   "outputs": [],
   "source": [
    "# Reversing the word index to obtain a dictionary mapping indices to words\n",
    "\n",
    "index_word = {idx+index_from: word for (word, idx) in word_index.items()}"
   ]
  },
  {
   "cell_type": "code",
   "execution_count": null,
   "id": "PcsqSJVgAaVT",
   "metadata": {
    "id": "PcsqSJVgAaVT"
   },
   "outputs": [],
   "source": [
    "# Function to decode the sentiment labels\n",
    "\n",
    "def label(y_enc):\n",
    "    \"\"\"Returns the sentiment labels\n",
    "\n",
    "    Args:\n",
    "        y_enc (int): Encoded sentiment label\n",
    "    \n",
    "    Returns:    \n",
    "        (string): Decoded sentiment label \n",
    "    \"\"\"\n",
    "    if y_enc == 0:\n",
    "        return 'negative'\n",
    "    else:\n",
    "        return 'positive'"
   ]
  },
  {
   "cell_type": "code",
   "execution_count": null,
   "id": "GtrRGaxlpSi2",
   "metadata": {
    "id": "GtrRGaxlpSi2"
   },
   "outputs": [],
   "source": [
    "# Decoding the feature value to get original sentence\n",
    "\n",
    "# Updating `index_word` to include `start_char` and `oov_char`\n",
    "index_word[start_char] = \"-START-\"\n",
    "index_word[oov_char] = \"-OOV-\"\n",
    "\n",
    "# Dataframe to store the decoded feature values for both the Train and Test datasets\n",
    "X_decoded = pd.DataFrame()\n",
    "\n",
    "# Decoding the feature values\n",
    "for i in range(len(X_train)  + len(X_test)):\n",
    "    if i< 25000:\n",
    "        X_train_decoded = \" \".join(index_word[idx] for idx in X_train[i])\n",
    "        X_decoded = X_decoded.append(pd.DataFrame([X_train_decoded, label(y_train[i])]).T, ignore_index=True)\n",
    "    else:\n",
    "        X_test_decoded = \" \".join(index_word[idx] for idx in X_test[i-25000])\n",
    "        X_decoded = X_decoded.append(pd.DataFrame([X_test_decoded, label(y_test[i-25000])]).T, ignore_index=True)\n",
    "\n",
    "X_decoded.columns = ['Review', 'Sentiment']"
   ]
  },
  {
   "cell_type": "code",
   "execution_count": null,
   "id": "Bc_CM9wit5CU",
   "metadata": {
    "colab": {
     "base_uri": "https://localhost:8080/"
    },
    "executionInfo": {
     "elapsed": 455,
     "status": "ok",
     "timestamp": 1670062760747,
     "user": {
      "displayName": "Vandana Kaarthik",
      "userId": "07645979193492493987"
     },
     "user_tz": -330
    },
    "id": "Bc_CM9wit5CU",
    "outputId": "cadc6d23-e1de-4707-f1a9-ddeee781ec6b"
   },
   "outputs": [
    {
     "data": {
      "text/plain": [
       "(50000, 2)"
      ]
     },
     "execution_count": 18,
     "metadata": {},
     "output_type": "execute_result"
    }
   ],
   "source": [
    "# Dataframe that has the decoded feature values for both the Train and Test datasets\n",
    "\n",
    "X_decoded.shape"
   ]
  },
  {
   "cell_type": "code",
   "execution_count": null,
   "id": "1Do6YC6QAw6J",
   "metadata": {
    "colab": {
     "base_uri": "https://localhost:8080/",
     "height": 206
    },
    "executionInfo": {
     "elapsed": 14,
     "status": "ok",
     "timestamp": 1670047172860,
     "user": {
      "displayName": "Vandana Kaarthik",
      "userId": "07645979193492493987"
     },
     "user_tz": -330
    },
    "id": "1Do6YC6QAw6J",
    "outputId": "8f9e91ef-dc88-4aca-def2-31cc48b07827"
   },
   "outputs": [
    {
     "data": {
      "text/html": [
       "\n",
       "  <div id=\"df-712107fc-051e-4e22-8a29-15ce5e158cf3\">\n",
       "    <div class=\"colab-df-container\">\n",
       "      <div>\n",
       "<style scoped>\n",
       "    .dataframe tbody tr th:only-of-type {\n",
       "        vertical-align: middle;\n",
       "    }\n",
       "\n",
       "    .dataframe tbody tr th {\n",
       "        vertical-align: top;\n",
       "    }\n",
       "\n",
       "    .dataframe thead th {\n",
       "        text-align: right;\n",
       "    }\n",
       "</style>\n",
       "<table border=\"1\" class=\"dataframe\">\n",
       "  <thead>\n",
       "    <tr style=\"text-align: right;\">\n",
       "      <th></th>\n",
       "      <th>Review</th>\n",
       "      <th>Sentiment</th>\n",
       "    </tr>\n",
       "  </thead>\n",
       "  <tbody>\n",
       "    <tr>\n",
       "      <th>0</th>\n",
       "      <td>-START- this film was just brilliant casting l...</td>\n",
       "      <td>positive</td>\n",
       "    </tr>\n",
       "    <tr>\n",
       "      <th>1</th>\n",
       "      <td>-START- big hair big boobs bad music and a gia...</td>\n",
       "      <td>negative</td>\n",
       "    </tr>\n",
       "    <tr>\n",
       "      <th>2</th>\n",
       "      <td>-START- this has to be one of the worst films ...</td>\n",
       "      <td>negative</td>\n",
       "    </tr>\n",
       "    <tr>\n",
       "      <th>3</th>\n",
       "      <td>-START- the -OOV- -OOV- at storytelling the tr...</td>\n",
       "      <td>positive</td>\n",
       "    </tr>\n",
       "    <tr>\n",
       "      <th>4</th>\n",
       "      <td>-START- worst mistake of my life br br i picke...</td>\n",
       "      <td>negative</td>\n",
       "    </tr>\n",
       "  </tbody>\n",
       "</table>\n",
       "</div>\n",
       "      <button class=\"colab-df-convert\" onclick=\"convertToInteractive('df-712107fc-051e-4e22-8a29-15ce5e158cf3')\"\n",
       "              title=\"Convert this dataframe to an interactive table.\"\n",
       "              style=\"display:none;\">\n",
       "        \n",
       "  <svg xmlns=\"http://www.w3.org/2000/svg\" height=\"24px\"viewBox=\"0 0 24 24\"\n",
       "       width=\"24px\">\n",
       "    <path d=\"M0 0h24v24H0V0z\" fill=\"none\"/>\n",
       "    <path d=\"M18.56 5.44l.94 2.06.94-2.06 2.06-.94-2.06-.94-.94-2.06-.94 2.06-2.06.94zm-11 1L8.5 8.5l.94-2.06 2.06-.94-2.06-.94L8.5 2.5l-.94 2.06-2.06.94zm10 10l.94 2.06.94-2.06 2.06-.94-2.06-.94-.94-2.06-.94 2.06-2.06.94z\"/><path d=\"M17.41 7.96l-1.37-1.37c-.4-.4-.92-.59-1.43-.59-.52 0-1.04.2-1.43.59L10.3 9.45l-7.72 7.72c-.78.78-.78 2.05 0 2.83L4 21.41c.39.39.9.59 1.41.59.51 0 1.02-.2 1.41-.59l7.78-7.78 2.81-2.81c.8-.78.8-2.07 0-2.86zM5.41 20L4 18.59l7.72-7.72 1.47 1.35L5.41 20z\"/>\n",
       "  </svg>\n",
       "      </button>\n",
       "      \n",
       "  <style>\n",
       "    .colab-df-container {\n",
       "      display:flex;\n",
       "      flex-wrap:wrap;\n",
       "      gap: 12px;\n",
       "    }\n",
       "\n",
       "    .colab-df-convert {\n",
       "      background-color: #E8F0FE;\n",
       "      border: none;\n",
       "      border-radius: 50%;\n",
       "      cursor: pointer;\n",
       "      display: none;\n",
       "      fill: #1967D2;\n",
       "      height: 32px;\n",
       "      padding: 0 0 0 0;\n",
       "      width: 32px;\n",
       "    }\n",
       "\n",
       "    .colab-df-convert:hover {\n",
       "      background-color: #E2EBFA;\n",
       "      box-shadow: 0px 1px 2px rgba(60, 64, 67, 0.3), 0px 1px 3px 1px rgba(60, 64, 67, 0.15);\n",
       "      fill: #174EA6;\n",
       "    }\n",
       "\n",
       "    [theme=dark] .colab-df-convert {\n",
       "      background-color: #3B4455;\n",
       "      fill: #D2E3FC;\n",
       "    }\n",
       "\n",
       "    [theme=dark] .colab-df-convert:hover {\n",
       "      background-color: #434B5C;\n",
       "      box-shadow: 0px 1px 3px 1px rgba(0, 0, 0, 0.15);\n",
       "      filter: drop-shadow(0px 1px 2px rgba(0, 0, 0, 0.3));\n",
       "      fill: #FFFFFF;\n",
       "    }\n",
       "  </style>\n",
       "\n",
       "      <script>\n",
       "        const buttonEl =\n",
       "          document.querySelector('#df-712107fc-051e-4e22-8a29-15ce5e158cf3 button.colab-df-convert');\n",
       "        buttonEl.style.display =\n",
       "          google.colab.kernel.accessAllowed ? 'block' : 'none';\n",
       "\n",
       "        async function convertToInteractive(key) {\n",
       "          const element = document.querySelector('#df-712107fc-051e-4e22-8a29-15ce5e158cf3');\n",
       "          const dataTable =\n",
       "            await google.colab.kernel.invokeFunction('convertToInteractive',\n",
       "                                                     [key], {});\n",
       "          if (!dataTable) return;\n",
       "\n",
       "          const docLinkHtml = 'Like what you see? Visit the ' +\n",
       "            '<a target=\"_blank\" href=https://colab.research.google.com/notebooks/data_table.ipynb>data table notebook</a>'\n",
       "            + ' to learn more about interactive tables.';\n",
       "          element.innerHTML = '';\n",
       "          dataTable['output_type'] = 'display_data';\n",
       "          await google.colab.output.renderOutput(dataTable, element);\n",
       "          const docLink = document.createElement('div');\n",
       "          docLink.innerHTML = docLinkHtml;\n",
       "          element.appendChild(docLink);\n",
       "        }\n",
       "      </script>\n",
       "    </div>\n",
       "  </div>\n",
       "  "
      ],
      "text/plain": [
       "                                              Review Sentiment\n",
       "0  -START- this film was just brilliant casting l...  positive\n",
       "1  -START- big hair big boobs bad music and a gia...  negative\n",
       "2  -START- this has to be one of the worst films ...  negative\n",
       "3  -START- the -OOV- -OOV- at storytelling the tr...  positive\n",
       "4  -START- worst mistake of my life br br i picke...  negative"
      ]
     },
     "execution_count": 13,
     "metadata": {},
     "output_type": "execute_result"
    }
   ],
   "source": [
    "X_decoded.head()"
   ]
  },
  {
   "cell_type": "code",
   "execution_count": null,
   "id": "-Gx5F4hYFYkn",
   "metadata": {
    "colab": {
     "base_uri": "https://localhost:8080/",
     "height": 192
    },
    "executionInfo": {
     "elapsed": 404,
     "status": "ok",
     "timestamp": 1670047209906,
     "user": {
      "displayName": "Vandana Kaarthik",
      "userId": "07645979193492493987"
     },
     "user_tz": -330
    },
    "id": "-Gx5F4hYFYkn",
    "outputId": "a34f06f9-4597-4ddf-8f89-92573d71c649"
   },
   "outputs": [
    {
     "data": {
      "application/vnd.google.colaboratory.intrinsic+json": {
       "type": "string"
      },
      "text/plain": [
       "\"-START- this film was just brilliant casting location scenery story direction everyone's really suited the part they played and you could just imagine being there robert -OOV- is an amazing actor and now the same being director -OOV- father came from the same scottish island as myself so i loved the fact there was a real connection with this film the witty remarks throughout the film were great it was just brilliant so much that i bought the film as soon as it was released for -OOV- and would recommend it to everyone to watch and the fly fishing was amazing really cried at the end it was so sad and you know what they say if you cry at a film it must have been good and this definitely was also -OOV- to the two little boy's that played the -OOV- of norman and paul they were just brilliant children are often left out of the -OOV- list i think because the stars that play them all grown up are such a big profile for the whole film but these children are amazing and should be praised for what they have done don't you think the whole story was so lovely because it was true and was someone's life after all that was shared with us all\""
      ]
     },
     "execution_count": 14,
     "metadata": {},
     "output_type": "execute_result"
    }
   ],
   "source": [
    "# Sample Decoded feature\n",
    "\n",
    "X_decoded.iloc[0,0]"
   ]
  },
  {
   "cell_type": "code",
   "execution_count": null,
   "id": "nF7zuBWAHIiY",
   "metadata": {
    "colab": {
     "base_uri": "https://localhost:8080/",
     "height": 35
    },
    "executionInfo": {
     "elapsed": 436,
     "status": "ok",
     "timestamp": 1670047217722,
     "user": {
      "displayName": "Vandana Kaarthik",
      "userId": "07645979193492493987"
     },
     "user_tz": -330
    },
    "id": "nF7zuBWAHIiY",
    "outputId": "63d96cbf-0625-4d99-afb3-3f7d7eb7ec2a"
   },
   "outputs": [
    {
     "data": {
      "application/vnd.google.colaboratory.intrinsic+json": {
       "type": "string"
      },
      "text/plain": [
       "'positive'"
      ]
     },
     "execution_count": 15,
     "metadata": {},
     "output_type": "execute_result"
    }
   ],
   "source": [
    "# Sample Decoded label\n",
    "\n",
    "X_decoded.iloc[0,1]\n"
   ]
  },
  {
   "cell_type": "markdown",
   "id": "cafbf410-c77d-4ebc-95e5-3fff01543661",
   "metadata": {
    "id": "cafbf410-c77d-4ebc-95e5-3fff01543661"
   },
   "source": [
    "<h4 style=\"color:indianred\"><em>5. <ins>Designing, training, tuning and testing sequential models:</ins></em></h4>"
   ]
  },
  {
   "cell_type": "code",
   "execution_count": null,
   "id": "dIz5kp_3xEd2",
   "metadata": {
    "id": "dIz5kp_3xEd2"
   },
   "outputs": [],
   "source": [
    "# Extracting the vocabulary dictionary containing the 10000 most frequent words in the data set\n",
    "\n",
    "senti_vocabulary_dict  = {idx: word for idx, word in index_word.items() if idx<10000}"
   ]
  },
  {
   "cell_type": "code",
   "execution_count": null,
   "id": "QeACgU_KIFTs",
   "metadata": {
    "colab": {
     "base_uri": "https://localhost:8080/"
    },
    "executionInfo": {
     "elapsed": 6,
     "status": "ok",
     "timestamp": 1670062772372,
     "user": {
      "displayName": "Vandana Kaarthik",
      "userId": "07645979193492493987"
     },
     "user_tz": -330
    },
    "id": "QeACgU_KIFTs",
    "outputId": "15030758-cccd-4d96-bfeb-1a9c29cce750"
   },
   "outputs": [
    {
     "data": {
      "text/plain": [
       "{47: 'has',\n",
       " 19: 'with',\n",
       " 31: 'one',\n",
       " 28: 'have',\n",
       " 45: \"it's\",\n",
       " 40: 'like',\n",
       " 13: 'i',\n",
       " 37: 'who',\n",
       " 29: 'he',\n",
       " 35: 'an',\n",
       " 17: 'as',\n",
       " 12: 'it',\n",
       " 9: 'is',\n",
       " 11: 'in',\n",
       " 48: 'if',\n",
       " 21: 'but',\n",
       " 23: 'on',\n",
       " 7: 'of',\n",
       " 42: 'or',\n",
       " 41: 'her',\n",
       " 27: 'his',\n",
       " 32: 'all',\n",
       " 14: 'this',\n",
       " 24: 'not',\n",
       " 25: 'you',\n",
       " 6: 'a',\n",
       " 33: 'at',\n",
       " 38: 'so',\n",
       " 50: 'there',\n",
       " 46: 'out',\n",
       " 18: 'for',\n",
       " 30: 'be',\n",
       " 10: 'br',\n",
       " 34: 'by',\n",
       " 36: 'they',\n",
       " 43: 'just',\n",
       " 4: 'the',\n",
       " 39: 'from',\n",
       " 16: 'was',\n",
       " 5: 'and',\n",
       " 8: 'to',\n",
       " 22: 'film',\n",
       " 44: 'about',\n",
       " 20: 'movie',\n",
       " 15: 'that',\n",
       " 49: 'some',\n",
       " 26: 'are',\n",
       " 1: '-START-',\n",
       " 2: '-OOV-'}"
      ]
     },
     "execution_count": 20,
     "metadata": {},
     "output_type": "execute_result"
    }
   ],
   "source": [
    "# Printing the 50 most frequent words in the vocabulary dictionary\n",
    "\n",
    "{idx: word for idx, word in senti_vocabulary_dict.items() if idx<=50}"
   ]
  },
  {
   "cell_type": "code",
   "execution_count": null,
   "id": "RbI8gDpnopeL",
   "metadata": {
    "colab": {
     "base_uri": "https://localhost:8080/"
    },
    "executionInfo": {
     "elapsed": 457,
     "status": "ok",
     "timestamp": 1670152633008,
     "user": {
      "displayName": "Vandana Kaarthik",
      "userId": "07645979193492493987"
     },
     "user_tz": -330
    },
    "id": "RbI8gDpnopeL",
    "outputId": "0c882569-9dc4-48ce-b74d-47575ad60d44"
   },
   "outputs": [
    {
     "name": "stderr",
     "output_type": "stream",
     "text": [
      "WARNING:tensorflow:Layer LSTM will not use cuDNN kernels since it doesn't meet the criteria. It will use a generic GPU kernel as fallback when running on GPU.\n"
     ]
    }
   ],
   "source": [
    "# Model 1 - Designing a sequential model with LSTM\n",
    "\n",
    "model_LSTM = Sequential()\n",
    "\n",
    "# Embedding layer\n",
    "model_LSTM.add(Embedding(input_dim=max_vocab_size,\n",
    "                                           output_dim=embedding_dim,\n",
    "                                           trainable=True,\n",
    "                                           embeddings_initializer=None,\n",
    "                                           input_length=max_seq_len,\n",
    "                                           name=\"Embedding\"))\n",
    "\n",
    "# Hidden layers\n",
    "model_LSTM.add(SpatialDropout1D(rate=0.2))\n",
    "model_LSTM.add(LSTM(32, return_sequences=False, dropout=0.5, recurrent_dropout=0.5, bias_initializer='random_uniform', name=\"LSTM\")) \n",
    "model_LSTM.add(Dense(16, name=\"Dense\"))\n",
    "model_LSTM.add(Dropout(rate=0.4))\n",
    "\n",
    "# Output layer\n",
    "model_LSTM.add(Dense(1, activation='sigmoid', name=\"Output\"))"
   ]
  },
  {
   "cell_type": "code",
   "execution_count": null,
   "id": "AOM0I9Br0eb7",
   "metadata": {
    "id": "AOM0I9Br0eb7"
   },
   "outputs": [],
   "source": [
    "# Compiling the LSTM model\n",
    "\n",
    "adam = optimizers.Adam(lr=0.0001)\n",
    "model_LSTM.compile(loss='binary_crossentropy', \n",
    "                                optimizer=adam, \n",
    "                                metrics=['accuracy'])"
   ]
  },
  {
   "cell_type": "code",
   "execution_count": null,
   "id": "CZlB4HI-0tz7",
   "metadata": {
    "colab": {
     "base_uri": "https://localhost:8080/"
    },
    "executionInfo": {
     "elapsed": 91,
     "status": "ok",
     "timestamp": 1670152640331,
     "user": {
      "displayName": "Vandana Kaarthik",
      "userId": "07645979193492493987"
     },
     "user_tz": -330
    },
    "id": "CZlB4HI-0tz7",
    "outputId": "12a8eb75-b9d8-4cab-f26c-d2de33db59d0"
   },
   "outputs": [
    {
     "name": "stdout",
     "output_type": "stream",
     "text": [
      "Model: \"sequential_27\"\n",
      "_________________________________________________________________\n",
      " Layer (type)                Output Shape              Param #   \n",
      "=================================================================\n",
      " Embedding (Embedding)       (None, 60, 100)           1000000   \n",
      "                                                                 \n",
      " spatial_dropout1d_18 (Spati  (None, 60, 100)          0         \n",
      " alDropout1D)                                                    \n",
      "                                                                 \n",
      " LSTM (LSTM)                 (None, 32)                17024     \n",
      "                                                                 \n",
      " Dense (Dense)               (None, 16)                528       \n",
      "                                                                 \n",
      " dropout_20 (Dropout)        (None, 16)                0         \n",
      "                                                                 \n",
      " Output (Dense)              (None, 1)                 17        \n",
      "                                                                 \n",
      "=================================================================\n",
      "Total params: 1,017,569\n",
      "Trainable params: 1,017,569\n",
      "Non-trainable params: 0\n",
      "_________________________________________________________________\n"
     ]
    }
   ],
   "source": [
    "# LSTM Model Summary\n",
    "\n",
    "model_LSTM.summary()"
   ]
  },
  {
   "cell_type": "code",
   "execution_count": null,
   "id": "cbUqKrNUJix3",
   "metadata": {
    "id": "cbUqKrNUJix3"
   },
   "outputs": [],
   "source": [
    "# Function that returns the callbacks to be used in the model\n",
    "\n",
    "def model_callbacks_LSTM():\n",
    "    \"\"\"Returns the callbacks to be used in the model\n",
    "    \n",
    "    Returns:    \n",
    "        (list): List of callbacks \n",
    "    \"\"\"\n",
    "    monitor_val_acc = EarlyStopping(monitor='val_loss', patience=50)\n",
    "    model_Checkpoint = ModelCheckpoint('best_model_LSTM.hdf5', save_best_only=True)\n",
    "    reduce_lr = ReduceLROnPlateau(monitor='val_loss', factor=0.1, patience=5, min_lr=0.0000001, mode='auto')\n",
    "\n",
    "    return [model_Checkpoint, monitor_val_acc, reduce_lr]"
   ]
  },
  {
   "cell_type": "code",
   "execution_count": null,
   "id": "yfpUaB8umXFI",
   "metadata": {
    "colab": {
     "base_uri": "https://localhost:8080/"
    },
    "executionInfo": {
     "elapsed": 142776,
     "status": "ok",
     "timestamp": 1670152787527,
     "user": {
      "displayName": "Vandana Kaarthik",
      "userId": "07645979193492493987"
     },
     "user_tz": -330
    },
    "id": "yfpUaB8umXFI",
    "outputId": "39070863-72f6-4a75-d1db-da5d15ed45b5"
   },
   "outputs": [
    {
     "name": "stdout",
     "output_type": "stream",
     "text": [
      "Epoch 1/10\n",
      "49/49 [==============================] - 17s 287ms/step - loss: 0.6932 - accuracy: 0.5047 - val_loss: 0.6927 - val_accuracy: 0.5319 - lr: 1.0000e-04\n",
      "Epoch 2/10\n",
      "49/49 [==============================] - 14s 282ms/step - loss: 0.6924 - accuracy: 0.5129 - val_loss: 0.6922 - val_accuracy: 0.5550 - lr: 1.0000e-04\n",
      "Epoch 3/10\n",
      "49/49 [==============================] - 15s 304ms/step - loss: 0.6911 - accuracy: 0.5386 - val_loss: 0.6913 - val_accuracy: 0.5716 - lr: 1.0000e-04\n",
      "Epoch 4/10\n",
      "49/49 [==============================] - 14s 283ms/step - loss: 0.6893 - accuracy: 0.5593 - val_loss: 0.6898 - val_accuracy: 0.5861 - lr: 1.0000e-04\n",
      "Epoch 5/10\n",
      "49/49 [==============================] - 14s 282ms/step - loss: 0.6859 - accuracy: 0.5931 - val_loss: 0.6861 - val_accuracy: 0.6017 - lr: 1.0000e-04\n",
      "Epoch 6/10\n",
      "49/49 [==============================] - 14s 279ms/step - loss: 0.6753 - accuracy: 0.6385 - val_loss: 0.6674 - val_accuracy: 0.6441 - lr: 1.0000e-04\n",
      "Epoch 7/10\n",
      "49/49 [==============================] - 14s 279ms/step - loss: 0.5937 - accuracy: 0.7084 - val_loss: 0.5227 - val_accuracy: 0.7394 - lr: 1.0000e-04\n",
      "Epoch 8/10\n",
      "49/49 [==============================] - 14s 285ms/step - loss: 0.4892 - accuracy: 0.7782 - val_loss: 0.4823 - val_accuracy: 0.7672 - lr: 1.0000e-04\n",
      "Epoch 9/10\n",
      "49/49 [==============================] - 13s 275ms/step - loss: 0.4432 - accuracy: 0.8050 - val_loss: 0.4717 - val_accuracy: 0.7740 - lr: 1.0000e-04\n",
      "Epoch 10/10\n",
      "49/49 [==============================] - 14s 287ms/step - loss: 0.4115 - accuracy: 0.8228 - val_loss: 0.4642 - val_accuracy: 0.7786 - lr: 1.0000e-04\n"
     ]
    }
   ],
   "source": [
    "# Training the model using the designed Architecture\n",
    "\n",
    "h_callback_LSTM = model_LSTM.fit(X_train_padded, \n",
    "                                                    y_train_reshaped, \n",
    "                                                    epochs=10,\n",
    "                                                    batch_size=512,\n",
    "                                                    validation_data=(X_test_padded, y_test_reshaped),\n",
    "                                                    callbacks=model_callbacks_LSTM())"
   ]
  },
  {
   "cell_type": "code",
   "execution_count": null,
   "id": "NRDESG-83Ib_",
   "metadata": {
    "colab": {
     "base_uri": "https://localhost:8080/"
    },
    "executionInfo": {
     "elapsed": 15632,
     "status": "ok",
     "timestamp": 1670152808118,
     "user": {
      "displayName": "Vandana Kaarthik",
      "userId": "07645979193492493987"
     },
     "user_tz": -330
    },
    "id": "NRDESG-83Ib_",
    "outputId": "f506d84a-7243-4fa1-cc6f-28fe9d491d81"
   },
   "outputs": [
    {
     "name": "stdout",
     "output_type": "stream",
     "text": [
      "782/782 [==============================] - 15s 20ms/step - loss: 0.4642 - accuracy: 0.7786\n",
      "Loss: 0.4642333984375\n",
      "Accuracy: 0.7785599827766418\n"
     ]
    }
   ],
   "source": [
    "# Evaluating the model accuracy on the test data\n",
    "\n",
    "loss, accuracy = model_LSTM.evaluate(X_test_padded, y_test_reshaped)\n",
    "print(f\"Loss: {loss}\\nAccuracy: {accuracy}\")"
   ]
  },
  {
   "cell_type": "code",
   "execution_count": null,
   "id": "d0V0alm45bfj",
   "metadata": {
    "id": "d0V0alm45bfj"
   },
   "outputs": [],
   "source": [
    "# Function to plot training and validation loss values\n",
    "\n",
    "def plot_loss(loss, val_loss):\n",
    "    \"\"\"Plot the training and the validation loss values.\n",
    "    \n",
    "    Args:    \n",
    "        loss(list): The training loss.\n",
    "        val_loss(list): The Validation loss.\n",
    "    \"\"\"\n",
    "    \n",
    "    plt.figure()\n",
    "    plt.plot(loss)\n",
    "    plt.plot(val_loss)\n",
    "    plt.title('Model loss')\n",
    "    plt.ylabel('Loss')\n",
    "    plt.xlabel('Epoch')\n",
    "    plt.legend(['Train', 'Validation'], loc='upper right')\n",
    "    plt.show()"
   ]
  },
  {
   "cell_type": "code",
   "execution_count": null,
   "id": "WuaFqAS25fXn",
   "metadata": {
    "id": "WuaFqAS25fXn"
   },
   "outputs": [],
   "source": [
    "def plot_accuracy(acc, val_acc):\n",
    "    \"\"\"Plot the training and the validation accuracy values.\n",
    "    \n",
    "    Args:    \n",
    "        acc(list): The training loss.\n",
    "        val_acc(list): The Validation loss.\n",
    "    \"\"\"\n",
    "    plt.figure()\n",
    "    plt.plot(acc)\n",
    "    plt.plot(val_acc)\n",
    "    plt.title('Model accuracy')\n",
    "    plt.ylabel('Accuracy')\n",
    "    plt.xlabel('Epoch')\n",
    "    plt.legend(['Train', 'Validation'], loc='upper left')\n",
    "    plt.show()"
   ]
  },
  {
   "cell_type": "code",
   "execution_count": null,
   "id": "yggiAX7A6nr4",
   "metadata": {
    "colab": {
     "base_uri": "https://localhost:8080/",
     "height": 301
    },
    "executionInfo": {
     "elapsed": 563,
     "status": "ok",
     "timestamp": 1670152814279,
     "user": {
      "displayName": "Vandana Kaarthik",
      "userId": "07645979193492493987"
     },
     "user_tz": -330
    },
    "id": "yggiAX7A6nr4",
    "outputId": "65209b9f-baee-457d-d5e4-ac1969b9a694"
   },
   "outputs": [
    {
     "data": {
      "image/png": "[encoded data removed]",
      "text/plain": [
       "<Figure size 432x288 with 1 Axes>"
      ]
     },
     "metadata": {},
     "output_type": "display_data"
    }
   ],
   "source": [
    "# Training Loss and Validation Loss\n",
    "\n",
    "sns.set_theme(style='white')\n",
    "plot_loss(h_callback_LSTM.history['loss'], h_callback_LSTM.history['val_loss'])"
   ]
  },
  {
   "cell_type": "code",
   "execution_count": null,
   "id": "p41Ivs_i60md",
   "metadata": {
    "colab": {
     "base_uri": "https://localhost:8080/",
     "height": 301
    },
    "executionInfo": {
     "elapsed": 836,
     "status": "ok",
     "timestamp": 1670152820275,
     "user": {
      "displayName": "Vandana Kaarthik",
      "userId": "07645979193492493987"
     },
     "user_tz": -330
    },
    "id": "p41Ivs_i60md",
    "outputId": "f0ba577b-3fff-470a-ec6a-998d6463c562"
   },
   "outputs": [
    {
     "data": {
      "image/png": "[encoded data removed]",
      "text/plain": [
       "<Figure size 432x288 with 1 Axes>"
      ]
     },
     "metadata": {},
     "output_type": "display_data"
    }
   ],
   "source": [
    "# Training Accuracy and Validation Accuracy\n",
    "\n",
    "plot_accuracy(h_callback_LSTM.history['accuracy'], h_callback_LSTM.history['val_accuracy'])"
   ]
  },
  {
   "cell_type": "code",
   "execution_count": null,
   "id": "xZb4LorAM-QR",
   "metadata": {
    "colab": {
     "base_uri": "https://localhost:8080/"
    },
    "executionInfo": {
     "elapsed": 584,
     "status": "ok",
     "timestamp": 1670158799222,
     "user": {
      "displayName": "Vandana Kaarthik",
      "userId": "07645979193492493987"
     },
     "user_tz": -330
    },
    "id": "xZb4LorAM-QR",
    "outputId": "40b37346-41c4-419c-d9d8-9e9dd88656aa"
   },
   "outputs": [
    {
     "name": "stderr",
     "output_type": "stream",
     "text": [
      "WARNING:tensorflow:Layer LSTM will not use cuDNN kernels since it doesn't meet the criteria. It will use a generic GPU kernel as fallback when running on GPU.\n"
     ]
    },
    {
     "name": "stdout",
     "output_type": "stream",
     "text": [
      "Model: \"sequential_51\"\n",
      "_________________________________________________________________\n",
      " Layer (type)                Output Shape              Param #   \n",
      "=================================================================\n",
      " Embedding (Embedding)       (None, 60, 100)           1000000   \n",
      "                                                                 \n",
      " conv1d_19 (Conv1D)          (None, 60, 16)            4816      \n",
      "                                                                 \n",
      " max_pooling1d_19 (MaxPoolin  (None, 30, 16)           0         \n",
      " g1D)                                                            \n",
      "                                                                 \n",
      " spatial_dropout1d_37 (Spati  (None, 30, 16)           0         \n",
      " alDropout1D)                                                    \n",
      "                                                                 \n",
      " LSTM (LSTM)                 (None, 32)                6272      \n",
      "                                                                 \n",
      " Dense (Dense)               (None, 16)                528       \n",
      "                                                                 \n",
      " dropout_48 (Dropout)        (None, 16)                0         \n",
      "                                                                 \n",
      " Output (Dense)              (None, 1)                 17        \n",
      "                                                                 \n",
      "=================================================================\n",
      "Total params: 1,011,633\n",
      "Trainable params: 1,011,633\n",
      "Non-trainable params: 0\n",
      "_________________________________________________________________\n"
     ]
    }
   ],
   "source": [
    "# Model 2 - Designing a sequential model with CNN\n",
    "\n",
    "model_CNN = Sequential()\n",
    "\n",
    "# Embedding layer\n",
    "model_CNN.add(Embedding(input_dim=max_vocab_size,\n",
    "                                           output_dim=embedding_dim,\n",
    "                                           trainable=True,\n",
    "                                           embeddings_initializer=None,\n",
    "                                           input_length=max_seq_len,\n",
    "                                           name=\"Embedding\"))\n",
    "\n",
    "# Hidden layers\n",
    "model_CNN.add(Conv1D(filters=16, kernel_size=3, activation='relu', padding='same', bias_initializer='random_uniform'))\n",
    "model_CNN.add(MaxPooling1D(pool_size=2))\n",
    "model_CNN.add(SpatialDropout1D(0.2))\n",
    "model_CNN.add(LSTM(32, return_sequences=False, dropout=0.5, recurrent_dropout=0.5, bias_initializer='random_uniform', name=\"LSTM\"))  \n",
    "model_CNN.add(Dense(16, name=\"Dense\"))\n",
    "model_CNN.add(Dropout(0.4)) \n",
    "\n",
    "# Output layer\n",
    "model_CNN.add(Dense(1, activation='sigmoid', name=\"Output\"))\n",
    "\n",
    "# Compiling the CNN model\n",
    "adam = optimizers.Adam(lr=0.0001)\n",
    "model_CNN.compile(loss='binary_crossentropy', \n",
    "                              optimizer=adam, \n",
    "                              metrics=['accuracy'])\n",
    "\n",
    "# CNN Model Summary\n",
    "model_CNN.summary()"
   ]
  },
  {
   "cell_type": "code",
   "execution_count": null,
   "id": "AUxCPmiZTxys",
   "metadata": {
    "colab": {
     "base_uri": "https://localhost:8080/"
    },
    "executionInfo": {
     "elapsed": 85356,
     "status": "ok",
     "timestamp": 1670158889523,
     "user": {
      "displayName": "Vandana Kaarthik",
      "userId": "07645979193492493987"
     },
     "user_tz": -330
    },
    "id": "AUxCPmiZTxys",
    "outputId": "62896614-b2c0-4102-c252-52bd305aa5c2"
   },
   "outputs": [
    {
     "name": "stdout",
     "output_type": "stream",
     "text": [
      "Epoch 1/10\n",
      "49/49 [==============================] - 11s 171ms/step - loss: 0.6934 - accuracy: 0.5016 - val_loss: 0.6929 - val_accuracy: 0.5359 - lr: 1.0000e-04\n",
      "Epoch 2/10\n",
      "49/49 [==============================] - 8s 156ms/step - loss: 0.6929 - accuracy: 0.5066 - val_loss: 0.6925 - val_accuracy: 0.5790 - lr: 1.0000e-04\n",
      "Epoch 3/10\n",
      "49/49 [==============================] - 7s 150ms/step - loss: 0.6921 - accuracy: 0.5246 - val_loss: 0.6918 - val_accuracy: 0.6182 - lr: 1.0000e-04\n",
      "Epoch 4/10\n",
      "49/49 [==============================] - 7s 146ms/step - loss: 0.6906 - accuracy: 0.5492 - val_loss: 0.6898 - val_accuracy: 0.6344 - lr: 1.0000e-04\n",
      "Epoch 5/10\n",
      "49/49 [==============================] - 8s 160ms/step - loss: 0.6855 - accuracy: 0.6013 - val_loss: 0.6816 - val_accuracy: 0.6587 - lr: 1.0000e-04\n",
      "Epoch 6/10\n",
      "49/49 [==============================] - 7s 151ms/step - loss: 0.6576 - accuracy: 0.6520 - val_loss: 0.6123 - val_accuracy: 0.7072 - lr: 1.0000e-04\n",
      "Epoch 7/10\n",
      "49/49 [==============================] - 7s 153ms/step - loss: 0.5621 - accuracy: 0.7199 - val_loss: 0.4978 - val_accuracy: 0.7612 - lr: 1.0000e-04\n",
      "Epoch 8/10\n",
      "49/49 [==============================] - 8s 153ms/step - loss: 0.4807 - accuracy: 0.7785 - val_loss: 0.4691 - val_accuracy: 0.7757 - lr: 1.0000e-04\n",
      "Epoch 9/10\n",
      "49/49 [==============================] - 7s 151ms/step - loss: 0.4382 - accuracy: 0.8062 - val_loss: 0.4592 - val_accuracy: 0.7812 - lr: 1.0000e-04\n",
      "Epoch 10/10\n",
      "49/49 [==============================] - 8s 155ms/step - loss: 0.4065 - accuracy: 0.8232 - val_loss: 0.4556 - val_accuracy: 0.7833 - lr: 1.0000e-04\n"
     ]
    }
   ],
   "source": [
    "# Training the model using the CNN Architecture\n",
    "\n",
    "h_callback_CNN = model_CNN.fit(X_train_padded, \n",
    "                                                  y_train_reshaped, \n",
    "                                                  epochs=10,\n",
    "                                                  batch_size=512,\n",
    "                                                  validation_data=(X_test_padded, y_test_reshaped),\n",
    "                                                  callbacks=model_callbacks_LSTM())"
   ]
  },
  {
   "cell_type": "code",
   "execution_count": null,
   "id": "IOwUxYnd7dzF",
   "metadata": {
    "colab": {
     "base_uri": "https://localhost:8080/"
    },
    "executionInfo": {
     "elapsed": 8961,
     "status": "ok",
     "timestamp": 1670158900559,
     "user": {
      "displayName": "Vandana Kaarthik",
      "userId": "07645979193492493987"
     },
     "user_tz": -330
    },
    "id": "IOwUxYnd7dzF",
    "outputId": "d11d4078-2b39-4fd1-d335-fc6be833f020"
   },
   "outputs": [
    {
     "name": "stdout",
     "output_type": "stream",
     "text": [
      "782/782 [==============================] - 9s 11ms/step - loss: 0.4556 - accuracy: 0.7833\n",
      "Loss: 0.4555854797363281\n",
      "Accuracy: 0.7832800149917603\n"
     ]
    }
   ],
   "source": [
    "# Evaluating the model accuracy on the test data\n",
    "\n",
    "loss, accuracy = model_CNN.evaluate(X_test_padded, y_test_reshaped)\n",
    "print(f\"Loss: {loss}\\nAccuracy: {accuracy}\")"
   ]
  },
  {
   "cell_type": "code",
   "execution_count": null,
   "id": "AlBb1YhnS7Lt",
   "metadata": {
    "colab": {
     "base_uri": "https://localhost:8080/",
     "height": 301
    },
    "executionInfo": {
     "elapsed": 764,
     "status": "ok",
     "timestamp": 1670158907798,
     "user": {
      "displayName": "Vandana Kaarthik",
      "userId": "07645979193492493987"
     },
     "user_tz": -330
    },
    "id": "AlBb1YhnS7Lt",
    "outputId": "a7df7111-2118-4f09-8ded-52eaf8f03e3e"
   },
   "outputs": [
    {
     "data": {
      "image/png": "[encoded data removed]",
      "text/plain": [
       "<Figure size 432x288 with 1 Axes>"
      ]
     },
     "metadata": {},
     "output_type": "display_data"
    }
   ],
   "source": [
    "# Training Loss and Validation Loss\n",
    "\n",
    "sns.set_theme(style='white')\n",
    "plot_loss(h_callback_CNN.history['loss'], h_callback_CNN.history['val_loss'])"
   ]
  },
  {
   "cell_type": "code",
   "execution_count": null,
   "id": "GTztCYOrTFPA",
   "metadata": {
    "colab": {
     "base_uri": "https://localhost:8080/",
     "height": 301
    },
    "executionInfo": {
     "elapsed": 576,
     "status": "ok",
     "timestamp": 1670158912760,
     "user": {
      "displayName": "Vandana Kaarthik",
      "userId": "07645979193492493987"
     },
     "user_tz": -330
    },
    "id": "GTztCYOrTFPA",
    "outputId": "8752732c-0bd6-414e-ee2f-272eca335818"
   },
   "outputs": [
    {
     "data": {
      "image/png": "[encoded data removed]",
      "text/plain": [
       "<Figure size 432x288 with 1 Axes>"
      ]
     },
     "metadata": {},
     "output_type": "display_data"
    }
   ],
   "source": [
    "# Training Accuracy and Validation Accuracy\n",
    "\n",
    "plot_accuracy(h_callback_CNN.history['accuracy'], h_callback_CNN.history['val_accuracy'])"
   ]
  },
  {
   "cell_type": "markdown",
   "id": "A1jgppL6OuLS",
   "metadata": {
    "id": "A1jgppL6OuLS"
   },
   "source": [
    "<em><strong>Observation:</strong></em>\n",
    "The convolution layer does feature selection on the embedding vector and achieves state-of-the-art results in many NLP problems. An improvement in the accuracy is evident over the LSTM model."
   ]
  },
  {
   "cell_type": "code",
   "execution_count": null,
   "id": "IPa5cKPa7yio",
   "metadata": {
    "id": "IPa5cKPa7yio"
   },
   "outputs": [],
   "source": [
    "# Tuning the sequential model\n",
    "\n",
    "# Function that creates a model for KerasClassifier wrapper\n",
    "\n",
    "def create_model(learning_rate=0.0001, lstm_neurons=64):\n",
    "    \"\"\"Create a model for KerasClassifier wrapper\n",
    "    \n",
    "    Args:    \n",
    "        learning_rate (float): The learning rate of the model.\n",
    "        lstm_neurons (int): The number of neurons in the LSTM layer\n",
    "\n",
    "    Returns:    \n",
    "        model_CNN(model): The compiled model\n",
    "    \"\"\"\n",
    "    \n",
    "    # Creating a sentiment classification model \n",
    "    model_CNN = Sequential()\n",
    "\n",
    "    # Embedding layer\n",
    "    model_CNN.add(Embedding(input_dim=max_vocab_size,\n",
    "                                              output_dim=embedding_dim,\n",
    "                                              trainable=True,\n",
    "                                              embeddings_initializer=None,\n",
    "                                              input_length=max_seq_len,\n",
    "                                              name=\"Embedding\"))\n",
    "\n",
    "    # Hidden layers\n",
    "    model_CNN.add(Conv1D(filters=16, kernel_size=3, activation='relu', padding='same', bias_initializer='random_uniform'))\n",
    "    model_CNN.add(MaxPooling1D(pool_size=2))\n",
    "    model_CNN.add(SpatialDropout1D(rate=0.2))\n",
    "    model_CNN.add(LSTM(lstm_neurons, return_sequences=False, dropout=0.5, recurrent_dropout=0.5, bias_initializer='random_uniform', name=\"LSTM\")) \n",
    "    model_CNN.add(Dense(16, name=\"Dense\"))\n",
    "    model_CNN.add(Dropout(rate=0.4))\n",
    "\n",
    "    # Output layer\n",
    "    model_CNN.add(Dense(1, activation='sigmoid', name=\"Output\"))\n",
    "\n",
    "    # Compiling the model\n",
    "    adam = optimizers.Adam(learning_rate=learning_rate)\n",
    "    model_CNN.compile(loss='binary_crossentropy', \n",
    "                                  optimizer=adam, \n",
    "                                  metrics=['accuracy'])\n",
    "    return model_CNN"
   ]
  },
  {
   "cell_type": "code",
   "execution_count": null,
   "id": "f1Uf7fH08F6M",
   "metadata": {
    "colab": {
     "base_uri": "https://localhost:8080/"
    },
    "executionInfo": {
     "elapsed": 1110527,
     "status": "ok",
     "timestamp": 1670160924422,
     "user": {
      "displayName": "Vandana Kaarthik",
      "userId": "07645979193492493987"
     },
     "user_tz": -330
    },
    "id": "f1Uf7fH08F6M",
    "outputId": "62297d40-1f58-48c6-e7c3-7f9f5c46b3fe"
   },
   "outputs": [
    {
     "name": "stderr",
     "output_type": "stream",
     "text": [
      "WARNING:tensorflow:Layer LSTM will not use cuDNN kernels since it doesn't meet the criteria. It will use a generic GPU kernel as fallback when running on GPU.\n"
     ]
    },
    {
     "data": {
      "text/plain": [
       "GridSearchCV(cv=3,\n",
       "             estimator=<keras.wrappers.scikit_learn.KerasClassifier object at 0x7f9acbd5d310>,\n",
       "             n_jobs=-1,\n",
       "             param_grid={'learning_rate': [0.0001, 1e-05],\n",
       "                         'lstm_neurons': [32, 64]},\n",
       "             scoring='accuracy')"
      ]
     },
     "execution_count": 220,
     "metadata": {},
     "output_type": "execute_result"
    }
   ],
   "source": [
    "# Hyperparameter tuning using Grid Search Cross Validation\n",
    "\n",
    "# Creating a KerasClassifier\n",
    "model_cv = KerasClassifier(build_fn=create_model)\n",
    "\n",
    "# Grid Search parameters \n",
    "param_grid = {'learning_rate': [1e-4, 1e-5 ],\n",
    "                      'lstm_neurons': [32, 64]\n",
    "                     }\n",
    "\n",
    "# Performing grid search cross validation\n",
    "grid_cv = GridSearchCV(estimator=model_cv, \n",
    "                                    param_grid=param_grid,\n",
    "                                    scoring='accuracy',\n",
    "                                    n_jobs=-1,\n",
    "                                    cv=3)\n",
    "\n",
    "grid_cv.fit(X_train_padded, y_train_reshaped, verbose=0)"
   ]
  },
  {
   "cell_type": "code",
   "execution_count": null,
   "id": "BrjwtL1u8Ymm",
   "metadata": {
    "colab": {
     "base_uri": "https://localhost:8080/"
    },
    "executionInfo": {
     "elapsed": 26548,
     "status": "ok",
     "timestamp": 1670161061829,
     "user": {
      "displayName": "Vandana Kaarthik",
      "userId": "07645979193492493987"
     },
     "user_tz": -330
    },
    "id": "BrjwtL1u8Ymm",
    "outputId": "5e77d4f8-58d5-40dc-daab-fad2b412ceb7"
   },
   "outputs": [
    {
     "name": "stdout",
     "output_type": "stream",
     "text": [
      "Best params: {'learning_rate': 0.0001, 'lstm_neurons': 64}\n",
      "782/782 [==============================] - 8s 9ms/step\n",
      "Train accuracy using the best hyperparameters: 0.7\n",
      "782/782 [==============================] - 7s 9ms/step\n",
      "Test accuracy using the best hyperparameters: 0.67\n"
     ]
    }
   ],
   "source": [
    "# Printing the best parameters for the given model according to Grid search CV\n",
    "\n",
    "print(f'Best params: {grid_cv.best_params_}')\n",
    "print(f'Train accuracy using the best hyperparameters: {round(grid_cv.score(X_train_padded, y_train_reshaped), 2)}')\n",
    "print(f'Test accuracy using the best hyperparameters: {round(grid_cv.score(X_test_padded, y_test_reshaped), 2)}')"
   ]
  },
  {
   "cell_type": "code",
   "execution_count": null,
   "id": "3Cv6V3S8XHSA",
   "metadata": {
    "id": "3Cv6V3S8XHSA"
   },
   "outputs": [],
   "source": [
    "# Function to create the sentiment classification model with the best parameters from Grid Search cross validation\n",
    "\n",
    "def best_model():\n",
    "    \"\"\"Create the model with the best parameters\n",
    "    \n",
    "    Returns:    \n",
    "        model_CNN(model): The compiled model with the best parameters\n",
    "    \"\"\"\n",
    "    model_CNN = Sequential()\n",
    "\n",
    "    # Embedding layer\n",
    "    model_CNN.add(Embedding(input_dim=max_vocab_size,\n",
    "                                              output_dim=embedding_dim,\n",
    "                                              trainable=True,\n",
    "                                              embeddings_initializer=None,\n",
    "                                              input_length=max_seq_len,\n",
    "                                              name=\"Embedding\"))\n",
    "\n",
    "    # Hidden layers\n",
    "    model_CNN.add(Conv1D(filters=16, kernel_size=3, activation='relu', padding='same', bias_initializer='random_uniform'))\n",
    "    model_CNN.add(MaxPooling1D(pool_size=2))\n",
    "    model_CNN.add(SpatialDropout1D(0.2))\n",
    "    model_CNN.add(LSTM(64, return_sequences=False, dropout=0.5, recurrent_dropout=0.5, bias_initializer='random_uniform', name=\"LSTM\"))  \n",
    "    model_CNN.add(Dense(16, name=\"Dense\"))\n",
    "    model_CNN.add(Dropout(0.4)) \n",
    "\n",
    "    # Output layer\n",
    "    model_CNN.add(Dense(1, activation='sigmoid', name=\"Output\"))\n",
    "\n",
    "    # Compiling the model\n",
    "    adam = optimizers.Adam(learning_rate=1e-4)\n",
    "    model_CNN.compile(loss='binary_crossentropy', \n",
    "                                  optimizer=adam, \n",
    "                                  metrics=['accuracy'])\n",
    "    model_CNN.summary()\n",
    "\n",
    "    return model_CNN"
   ]
  },
  {
   "cell_type": "code",
   "execution_count": null,
   "id": "-RgRQf6gYH9J",
   "metadata": {
    "colab": {
     "base_uri": "https://localhost:8080/"
    },
    "executionInfo": {
     "elapsed": 85286,
     "status": "ok",
     "timestamp": 1670162738573,
     "user": {
      "displayName": "Vandana Kaarthik",
      "userId": "07645979193492493987"
     },
     "user_tz": -330
    },
    "id": "-RgRQf6gYH9J",
    "outputId": "d032dd76-2ac2-4f0c-b700-118b350d0b04"
   },
   "outputs": [
    {
     "name": "stderr",
     "output_type": "stream",
     "text": [
      "WARNING:tensorflow:Layer LSTM will not use cuDNN kernels since it doesn't meet the criteria. It will use a generic GPU kernel as fallback when running on GPU.\n"
     ]
    },
    {
     "name": "stdout",
     "output_type": "stream",
     "text": [
      "Model: \"sequential_59\"\n",
      "_________________________________________________________________\n",
      " Layer (type)                Output Shape              Param #   \n",
      "=================================================================\n",
      " Embedding (Embedding)       (None, 60, 100)           1000000   \n",
      "                                                                 \n",
      " conv1d_27 (Conv1D)          (None, 60, 16)            4816      \n",
      "                                                                 \n",
      " max_pooling1d_27 (MaxPoolin  (None, 30, 16)           0         \n",
      " g1D)                                                            \n",
      "                                                                 \n",
      " spatial_dropout1d_45 (Spati  (None, 30, 16)           0         \n",
      " alDropout1D)                                                    \n",
      "                                                                 \n",
      " LSTM (LSTM)                 (None, 64)                20736     \n",
      "                                                                 \n",
      " Dense (Dense)               (None, 16)                1040      \n",
      "                                                                 \n",
      " dropout_56 (Dropout)        (None, 16)                0         \n",
      "                                                                 \n",
      " Output (Dense)              (None, 1)                 17        \n",
      "                                                                 \n",
      "=================================================================\n",
      "Total params: 1,026,609\n",
      "Trainable params: 1,026,609\n",
      "Non-trainable params: 0\n",
      "_________________________________________________________________\n",
      "Epoch 1/10\n",
      "49/49 [==============================] - 11s 164ms/step - loss: 0.6933 - accuracy: 0.5003 - val_loss: 0.6929 - val_accuracy: 0.5106 - lr: 1.0000e-04\n",
      "Epoch 2/10\n",
      "49/49 [==============================] - 8s 159ms/step - loss: 0.6928 - accuracy: 0.5112 - val_loss: 0.6926 - val_accuracy: 0.5074 - lr: 1.0000e-04\n",
      "Epoch 3/10\n",
      "49/49 [==============================] - 8s 162ms/step - loss: 0.6921 - accuracy: 0.5252 - val_loss: 0.6917 - val_accuracy: 0.5826 - lr: 1.0000e-04\n",
      "Epoch 4/10\n",
      "49/49 [==============================] - 8s 167ms/step - loss: 0.6900 - accuracy: 0.5698 - val_loss: 0.6887 - val_accuracy: 0.6104 - lr: 1.0000e-04\n",
      "Epoch 5/10\n",
      "49/49 [==============================] - 8s 164ms/step - loss: 0.6788 - accuracy: 0.6230 - val_loss: 0.6582 - val_accuracy: 0.6618 - lr: 1.0000e-04\n",
      "Epoch 6/10\n",
      "49/49 [==============================] - 8s 159ms/step - loss: 0.5941 - accuracy: 0.6908 - val_loss: 0.5220 - val_accuracy: 0.7541 - lr: 1.0000e-04\n",
      "Epoch 7/10\n",
      "49/49 [==============================] - 8s 162ms/step - loss: 0.5063 - accuracy: 0.7604 - val_loss: 0.4808 - val_accuracy: 0.7695 - lr: 1.0000e-04\n",
      "Epoch 8/10\n",
      "49/49 [==============================] - 8s 166ms/step - loss: 0.4535 - accuracy: 0.7951 - val_loss: 0.4645 - val_accuracy: 0.7774 - lr: 1.0000e-04\n",
      "Epoch 9/10\n",
      "49/49 [==============================] - 8s 164ms/step - loss: 0.4199 - accuracy: 0.8165 - val_loss: 0.4613 - val_accuracy: 0.7782 - lr: 1.0000e-04\n",
      "Epoch 10/10\n",
      "49/49 [==============================] - 8s 156ms/step - loss: 0.3958 - accuracy: 0.8299 - val_loss: 0.4617 - val_accuracy: 0.7785 - lr: 1.0000e-04\n"
     ]
    }
   ],
   "source": [
    "# Training the sentiment classifier with the best parameters from Grid Search cross validation\n",
    "\n",
    "model_best = best_model()\n",
    "h_callback_best = model_best.fit(X_train_padded, \n",
    "                                                 y_train_reshaped, \n",
    "                                                 epochs=10,\n",
    "                                                 batch_size=512,\n",
    "                                                 validation_data=(X_test_padded, y_test_reshaped),\n",
    "                                                 callbacks=model_callbacks_LSTM())"
   ]
  },
  {
   "cell_type": "code",
   "execution_count": null,
   "id": "YXR7zGoXe1Zg",
   "metadata": {
    "colab": {
     "base_uri": "https://localhost:8080/"
    },
    "executionInfo": {
     "elapsed": 8526,
     "status": "ok",
     "timestamp": 1670163197947,
     "user": {
      "displayName": "Vandana Kaarthik",
      "userId": "07645979193492493987"
     },
     "user_tz": -330
    },
    "id": "YXR7zGoXe1Zg",
    "outputId": "e37c9fca-fa40-4314-9de0-0ece6c8c38b2"
   },
   "outputs": [
    {
     "name": "stdout",
     "output_type": "stream",
     "text": [
      "782/782 [==============================] - 8s 11ms/step - loss: 0.4617 - accuracy: 0.7785\n",
      "Loss: 0.4617423415184021\n",
      "Accuracy: 0.7785199880599976\n"
     ]
    }
   ],
   "source": [
    "# Evaluating the model accuracy on the test data\n",
    "\n",
    "loss, accuracy = model_best.evaluate(X_test_padded, y_test_reshaped)\n",
    "print(f\"Loss: {loss}\\nAccuracy: {accuracy}\")"
   ]
  },
  {
   "cell_type": "markdown",
   "id": "241f7f4a-16a6-4d26-abc3-3bbf5a760293",
   "metadata": {
    "id": "241f7f4a-16a6-4d26-abc3-3bbf5a760293"
   },
   "source": [
    "<h4 style=\"color:indianred\"><em>6. <ins>Using the designed model to print the prediction on any sample:</ins></em></h4>"
   ]
  },
  {
   "cell_type": "code",
   "execution_count": null,
   "id": "rIfVvt_QhiHt",
   "metadata": {
    "id": "rIfVvt_QhiHt"
   },
   "outputs": [],
   "source": [
    "# Sample data\n",
    "\n",
    "X_sample = X_test_padded[1].reshape(1, max_seq_len)"
   ]
  },
  {
   "cell_type": "code",
   "execution_count": null,
   "id": "zDCY7c3PtSY7",
   "metadata": {
    "colab": {
     "base_uri": "https://localhost:8080/"
    },
    "executionInfo": {
     "elapsed": 9,
     "status": "ok",
     "timestamp": 1670162799463,
     "user": {
      "displayName": "Vandana Kaarthik",
      "userId": "07645979193492493987"
     },
     "user_tz": -330
    },
    "id": "zDCY7c3PtSY7",
    "outputId": "c9ed6758-35d5-4917-cc07-df2172a0cf7f"
   },
   "outputs": [
    {
     "data": {
      "text/plain": [
       "(1, 60)"
      ]
     },
     "execution_count": 240,
     "metadata": {},
     "output_type": "execute_result"
    }
   ],
   "source": [
    "# Shape of the sample data\n",
    "\n",
    "X_sample.shape"
   ]
  },
  {
   "cell_type": "code",
   "execution_count": null,
   "id": "u8HUbyvDthDL",
   "metadata": {
    "colab": {
     "base_uri": "https://localhost:8080/"
    },
    "executionInfo": {
     "elapsed": 467,
     "status": "ok",
     "timestamp": 1670162802620,
     "user": {
      "displayName": "Vandana Kaarthik",
      "userId": "07645979193492493987"
     },
     "user_tz": -330
    },
    "id": "u8HUbyvDthDL",
    "outputId": "3105a2d2-472c-4880-809c-ee0cd29bfc58"
   },
   "outputs": [
    {
     "name": "stdout",
     "output_type": "stream",
     "text": [
      "1/1 [==============================] - 0s 28ms/step\n"
     ]
    },
    {
     "data": {
      "text/plain": [
       "array([[0.89340836]], dtype=float32)"
      ]
     },
     "execution_count": 241,
     "metadata": {},
     "output_type": "execute_result"
    }
   ],
   "source": [
    "# Getting the prediction for the sample data using the designed model\n",
    "\n",
    "pred = model_best.predict(X_sample)\n",
    "pred"
   ]
  },
  {
   "cell_type": "code",
   "execution_count": null,
   "id": "L8PjNDdHVwAA",
   "metadata": {
    "colab": {
     "base_uri": "https://localhost:8080/",
     "height": 35
    },
    "executionInfo": {
     "elapsed": 529,
     "status": "ok",
     "timestamp": 1670162811116,
     "user": {
      "displayName": "Vandana Kaarthik",
      "userId": "07645979193492493987"
     },
     "user_tz": -330
    },
    "id": "L8PjNDdHVwAA",
    "outputId": "559286a1-68b7-4ed3-8141-4fc3e42d959b"
   },
   "outputs": [
    {
     "data": {
      "application/vnd.google.colaboratory.intrinsic+json": {
       "type": "string"
      },
      "text/plain": [
       "'positive'"
      ]
     },
     "execution_count": 242,
     "metadata": {},
     "output_type": "execute_result"
    }
   ],
   "source": [
    "# Transforming the prediction into labels\n",
    "\n",
    "pred_sentiment = \"positive\" if pred>0.5 else \"negative\" \n",
    "pred_sentiment"
   ]
  },
  {
   "cell_type": "code",
   "execution_count": null,
   "id": "kmYN_kSetlP5",
   "metadata": {
    "colab": {
     "base_uri": "https://localhost:8080/"
    },
    "executionInfo": {
     "elapsed": 451,
     "status": "ok",
     "timestamp": 1670162878576,
     "user": {
      "displayName": "Vandana Kaarthik",
      "userId": "07645979193492493987"
     },
     "user_tz": -330
    },
    "id": "kmYN_kSetlP5",
    "outputId": "887d529c-b719-49dd-9bce-fdb46b9775e6"
   },
   "outputs": [
    {
     "name": "stdout",
     "output_type": "stream",
     "text": [
      "Predicted label: positive\n",
      "Actual label: positive\n"
     ]
    }
   ],
   "source": [
    "# Printing the prediction on the sample\n",
    "\n",
    "print(f'Predicted label: {pred_sentiment}')\n",
    "print(f'Actual label: {label(y_test[1])}')"
   ]
  },
  {
   "cell_type": "markdown",
   "id": "706cb642-313c-4ec5-9d3a-9102907c114c",
   "metadata": {
    "id": "706cb642-313c-4ec5-9d3a-9102907c114c"
   },
   "source": [
    "### Part B - Sarcasm Detection:\n",
    "***"
   ]
  },
  {
   "cell_type": "markdown",
   "id": "dd0a1dfb-7dea-423e-86bc-fb764036b015",
   "metadata": {
    "id": "dd0a1dfb-7dea-423e-86bc-fb764036b015"
   },
   "source": [
    "<h4 style=\"color:indianred\"><em>1. <ins>Reading and exploring the data:</ins></em></h4>"
   ]
  },
  {
   "cell_type": "code",
   "execution_count": null,
   "id": "52223587-6ebc-40e0-b473-ae447bd33bd5",
   "metadata": {
    "colab": {
     "base_uri": "https://localhost:8080/",
     "height": 250
    },
    "executionInfo": {
     "elapsed": 2901,
     "status": "ok",
     "timestamp": 1670067018657,
     "user": {
      "displayName": "Vandana Kaarthik",
      "userId": "07645979193492493987"
     },
     "user_tz": -330
    },
    "id": "52223587-6ebc-40e0-b473-ae447bd33bd5",
    "outputId": "d4bf8095-5328-47b4-b1a8-270a08575fd3"
   },
   "outputs": [
    {
     "data": {
      "text/html": [
       "\n",
       "  <div id=\"df-b64c661a-6471-430e-9320-1401aa194ec8\">\n",
       "    <div class=\"colab-df-container\">\n",
       "      <div>\n",
       "<style scoped>\n",
       "    .dataframe tbody tr th:only-of-type {\n",
       "        vertical-align: middle;\n",
       "    }\n",
       "\n",
       "    .dataframe tbody tr th {\n",
       "        vertical-align: top;\n",
       "    }\n",
       "\n",
       "    .dataframe thead th {\n",
       "        text-align: right;\n",
       "    }\n",
       "</style>\n",
       "<table border=\"1\" class=\"dataframe\">\n",
       "  <thead>\n",
       "    <tr style=\"text-align: right;\">\n",
       "      <th></th>\n",
       "      <th>is_sarcastic</th>\n",
       "      <th>headline</th>\n",
       "      <th>article_link</th>\n",
       "    </tr>\n",
       "  </thead>\n",
       "  <tbody>\n",
       "    <tr>\n",
       "      <th>0</th>\n",
       "      <td>1</td>\n",
       "      <td>thirtysomething scientists unveil doomsday clo...</td>\n",
       "      <td>https://www.theonion.com/thirtysomething-scien...</td>\n",
       "    </tr>\n",
       "    <tr>\n",
       "      <th>1</th>\n",
       "      <td>0</td>\n",
       "      <td>dem rep. totally nails why congress is falling...</td>\n",
       "      <td>https://www.huffingtonpost.com/entry/donna-edw...</td>\n",
       "    </tr>\n",
       "    <tr>\n",
       "      <th>2</th>\n",
       "      <td>0</td>\n",
       "      <td>eat your veggies: 9 deliciously different recipes</td>\n",
       "      <td>https://www.huffingtonpost.com/entry/eat-your-...</td>\n",
       "    </tr>\n",
       "    <tr>\n",
       "      <th>3</th>\n",
       "      <td>1</td>\n",
       "      <td>inclement weather prevents liar from getting t...</td>\n",
       "      <td>https://local.theonion.com/inclement-weather-p...</td>\n",
       "    </tr>\n",
       "    <tr>\n",
       "      <th>4</th>\n",
       "      <td>1</td>\n",
       "      <td>mother comes pretty close to using word 'strea...</td>\n",
       "      <td>https://www.theonion.com/mother-comes-pretty-c...</td>\n",
       "    </tr>\n",
       "  </tbody>\n",
       "</table>\n",
       "</div>\n",
       "      <button class=\"colab-df-convert\" onclick=\"convertToInteractive('df-b64c661a-6471-430e-9320-1401aa194ec8')\"\n",
       "              title=\"Convert this dataframe to an interactive table.\"\n",
       "              style=\"display:none;\">\n",
       "        \n",
       "  <svg xmlns=\"http://www.w3.org/2000/svg\" height=\"24px\"viewBox=\"0 0 24 24\"\n",
       "       width=\"24px\">\n",
       "    <path d=\"M0 0h24v24H0V0z\" fill=\"none\"/>\n",
       "    <path d=\"M18.56 5.44l.94 2.06.94-2.06 2.06-.94-2.06-.94-.94-2.06-.94 2.06-2.06.94zm-11 1L8.5 8.5l.94-2.06 2.06-.94-2.06-.94L8.5 2.5l-.94 2.06-2.06.94zm10 10l.94 2.06.94-2.06 2.06-.94-2.06-.94-.94-2.06-.94 2.06-2.06.94z\"/><path d=\"M17.41 7.96l-1.37-1.37c-.4-.4-.92-.59-1.43-.59-.52 0-1.04.2-1.43.59L10.3 9.45l-7.72 7.72c-.78.78-.78 2.05 0 2.83L4 21.41c.39.39.9.59 1.41.59.51 0 1.02-.2 1.41-.59l7.78-7.78 2.81-2.81c.8-.78.8-2.07 0-2.86zM5.41 20L4 18.59l7.72-7.72 1.47 1.35L5.41 20z\"/>\n",
       "  </svg>\n",
       "      </button>\n",
       "      \n",
       "  <style>\n",
       "    .colab-df-container {\n",
       "      display:flex;\n",
       "      flex-wrap:wrap;\n",
       "      gap: 12px;\n",
       "    }\n",
       "\n",
       "    .colab-df-convert {\n",
       "      background-color: #E8F0FE;\n",
       "      border: none;\n",
       "      border-radius: 50%;\n",
       "      cursor: pointer;\n",
       "      display: none;\n",
       "      fill: #1967D2;\n",
       "      height: 32px;\n",
       "      padding: 0 0 0 0;\n",
       "      width: 32px;\n",
       "    }\n",
       "\n",
       "    .colab-df-convert:hover {\n",
       "      background-color: #E2EBFA;\n",
       "      box-shadow: 0px 1px 2px rgba(60, 64, 67, 0.3), 0px 1px 3px 1px rgba(60, 64, 67, 0.15);\n",
       "      fill: #174EA6;\n",
       "    }\n",
       "\n",
       "    [theme=dark] .colab-df-convert {\n",
       "      background-color: #3B4455;\n",
       "      fill: #D2E3FC;\n",
       "    }\n",
       "\n",
       "    [theme=dark] .colab-df-convert:hover {\n",
       "      background-color: #434B5C;\n",
       "      box-shadow: 0px 1px 3px 1px rgba(0, 0, 0, 0.15);\n",
       "      filter: drop-shadow(0px 1px 2px rgba(0, 0, 0, 0.3));\n",
       "      fill: #FFFFFF;\n",
       "    }\n",
       "  </style>\n",
       "\n",
       "      <script>\n",
       "        const buttonEl =\n",
       "          document.querySelector('#df-b64c661a-6471-430e-9320-1401aa194ec8 button.colab-df-convert');\n",
       "        buttonEl.style.display =\n",
       "          google.colab.kernel.accessAllowed ? 'block' : 'none';\n",
       "\n",
       "        async function convertToInteractive(key) {\n",
       "          const element = document.querySelector('#df-b64c661a-6471-430e-9320-1401aa194ec8');\n",
       "          const dataTable =\n",
       "            await google.colab.kernel.invokeFunction('convertToInteractive',\n",
       "                                                     [key], {});\n",
       "          if (!dataTable) return;\n",
       "\n",
       "          const docLinkHtml = 'Like what you see? Visit the ' +\n",
       "            '<a target=\"_blank\" href=https://colab.research.google.com/notebooks/data_table.ipynb>data table notebook</a>'\n",
       "            + ' to learn more about interactive tables.';\n",
       "          element.innerHTML = '';\n",
       "          dataTable['output_type'] = 'display_data';\n",
       "          await google.colab.output.renderOutput(dataTable, element);\n",
       "          const docLink = document.createElement('div');\n",
       "          docLink.innerHTML = docLinkHtml;\n",
       "          element.appendChild(docLink);\n",
       "        }\n",
       "      </script>\n",
       "    </div>\n",
       "  </div>\n",
       "  "
      ],
      "text/plain": [
       "   is_sarcastic                                           headline  \\\n",
       "0             1  thirtysomething scientists unveil doomsday clo...   \n",
       "1             0  dem rep. totally nails why congress is falling...   \n",
       "2             0  eat your veggies: 9 deliciously different recipes   \n",
       "3             1  inclement weather prevents liar from getting t...   \n",
       "4             1  mother comes pretty close to using word 'strea...   \n",
       "\n",
       "                                        article_link  \n",
       "0  https://www.theonion.com/thirtysomething-scien...  \n",
       "1  https://www.huffingtonpost.com/entry/donna-edw...  \n",
       "2  https://www.huffingtonpost.com/entry/eat-your-...  \n",
       "3  https://local.theonion.com/inclement-weather-p...  \n",
       "4  https://www.theonion.com/mother-comes-pretty-c...  "
      ]
     },
     "execution_count": 4,
     "metadata": {},
     "output_type": "execute_result"
    }
   ],
   "source": [
    "# Reading the dataset\n",
    "\n",
    "sarcasm_headlines = pd.read_json(\"/content/drive/MyDrive/AIML/NLP/Project2 - Seq NLP/Sarcasm_Headlines_Dataset.json\", lines=True)\n",
    "sarcasm_headlines.head()"
   ]
  },
  {
   "cell_type": "code",
   "execution_count": null,
   "id": "95caa9c1-a932-4483-a3b1-9c8d4b2e7288",
   "metadata": {
    "colab": {
     "base_uri": "https://localhost:8080/"
    },
    "executionInfo": {
     "elapsed": 698,
     "status": "ok",
     "timestamp": 1669710709130,
     "user": {
      "displayName": "Vandana Kaarthik",
      "userId": "07645979193492493987"
     },
     "user_tz": -330
    },
    "id": "95caa9c1-a932-4483-a3b1-9c8d4b2e7288",
    "outputId": "cf395a8b-5fbc-49e7-8670-31697bc977fb"
   },
   "outputs": [
    {
     "name": "stdout",
     "output_type": "stream",
     "text": [
      "<class 'pandas.core.frame.DataFrame'>\n",
      "RangeIndex: 28619 entries, 0 to 28618\n",
      "Data columns (total 3 columns):\n",
      " #   Column        Non-Null Count  Dtype \n",
      "---  ------        --------------  ----- \n",
      " 0   is_sarcastic  28619 non-null  int64 \n",
      " 1   headline      28619 non-null  object\n",
      " 2   article_link  28619 non-null  object\n",
      "dtypes: int64(1), object(2)\n",
      "memory usage: 670.9+ KB\n"
     ]
    }
   ],
   "source": [
    "sarcasm_headlines.info()"
   ]
  },
  {
   "cell_type": "code",
   "execution_count": null,
   "id": "WiXmZ6MVijew",
   "metadata": {
    "colab": {
     "base_uri": "https://localhost:8080/",
     "height": 456
    },
    "executionInfo": {
     "elapsed": 621,
     "status": "ok",
     "timestamp": 1669711213361,
     "user": {
      "displayName": "Vandana Kaarthik",
      "userId": "07645979193492493987"
     },
     "user_tz": -330
    },
    "id": "WiXmZ6MVijew",
    "outputId": "89c8bb75-e35c-48b1-ff0f-113e0696ba6a"
   },
   "outputs": [
    {
     "data": {
      "text/html": [
       "\n",
       "  <div id=\"df-4a9020b5-c447-467b-babd-1a8a6941b1ba\">\n",
       "    <div class=\"colab-df-container\">\n",
       "      <div>\n",
       "<style scoped>\n",
       "    .dataframe tbody tr th:only-of-type {\n",
       "        vertical-align: middle;\n",
       "    }\n",
       "\n",
       "    .dataframe tbody tr th {\n",
       "        vertical-align: top;\n",
       "    }\n",
       "\n",
       "    .dataframe thead th {\n",
       "        text-align: right;\n",
       "    }\n",
       "</style>\n",
       "<table border=\"1\" class=\"dataframe\">\n",
       "  <thead>\n",
       "    <tr style=\"text-align: right;\">\n",
       "      <th></th>\n",
       "      <th>is_sarcastic</th>\n",
       "      <th>headline</th>\n",
       "      <th>article_link</th>\n",
       "    </tr>\n",
       "  </thead>\n",
       "  <tbody>\n",
       "    <tr>\n",
       "      <th>count</th>\n",
       "      <td>28619.000000</td>\n",
       "      <td>28619</td>\n",
       "      <td>28619</td>\n",
       "    </tr>\n",
       "    <tr>\n",
       "      <th>unique</th>\n",
       "      <td>NaN</td>\n",
       "      <td>28503</td>\n",
       "      <td>28617</td>\n",
       "    </tr>\n",
       "    <tr>\n",
       "      <th>top</th>\n",
       "      <td>NaN</td>\n",
       "      <td>'no way to prevent this,' says only nation whe...</td>\n",
       "      <td>https://politics.theonion.com/nation-not-sure-...</td>\n",
       "    </tr>\n",
       "    <tr>\n",
       "      <th>freq</th>\n",
       "      <td>NaN</td>\n",
       "      <td>12</td>\n",
       "      <td>2</td>\n",
       "    </tr>\n",
       "    <tr>\n",
       "      <th>mean</th>\n",
       "      <td>0.476397</td>\n",
       "      <td>NaN</td>\n",
       "      <td>NaN</td>\n",
       "    </tr>\n",
       "    <tr>\n",
       "      <th>std</th>\n",
       "      <td>0.499451</td>\n",
       "      <td>NaN</td>\n",
       "      <td>NaN</td>\n",
       "    </tr>\n",
       "    <tr>\n",
       "      <th>min</th>\n",
       "      <td>0.000000</td>\n",
       "      <td>NaN</td>\n",
       "      <td>NaN</td>\n",
       "    </tr>\n",
       "    <tr>\n",
       "      <th>25%</th>\n",
       "      <td>0.000000</td>\n",
       "      <td>NaN</td>\n",
       "      <td>NaN</td>\n",
       "    </tr>\n",
       "    <tr>\n",
       "      <th>50%</th>\n",
       "      <td>0.000000</td>\n",
       "      <td>NaN</td>\n",
       "      <td>NaN</td>\n",
       "    </tr>\n",
       "    <tr>\n",
       "      <th>75%</th>\n",
       "      <td>1.000000</td>\n",
       "      <td>NaN</td>\n",
       "      <td>NaN</td>\n",
       "    </tr>\n",
       "    <tr>\n",
       "      <th>max</th>\n",
       "      <td>1.000000</td>\n",
       "      <td>NaN</td>\n",
       "      <td>NaN</td>\n",
       "    </tr>\n",
       "  </tbody>\n",
       "</table>\n",
       "</div>\n",
       "      <button class=\"colab-df-convert\" onclick=\"convertToInteractive('df-4a9020b5-c447-467b-babd-1a8a6941b1ba')\"\n",
       "              title=\"Convert this dataframe to an interactive table.\"\n",
       "              style=\"display:none;\">\n",
       "        \n",
       "  <svg xmlns=\"http://www.w3.org/2000/svg\" height=\"24px\"viewBox=\"0 0 24 24\"\n",
       "       width=\"24px\">\n",
       "    <path d=\"M0 0h24v24H0V0z\" fill=\"none\"/>\n",
       "    <path d=\"M18.56 5.44l.94 2.06.94-2.06 2.06-.94-2.06-.94-.94-2.06-.94 2.06-2.06.94zm-11 1L8.5 8.5l.94-2.06 2.06-.94-2.06-.94L8.5 2.5l-.94 2.06-2.06.94zm10 10l.94 2.06.94-2.06 2.06-.94-2.06-.94-.94-2.06-.94 2.06-2.06.94z\"/><path d=\"M17.41 7.96l-1.37-1.37c-.4-.4-.92-.59-1.43-.59-.52 0-1.04.2-1.43.59L10.3 9.45l-7.72 7.72c-.78.78-.78 2.05 0 2.83L4 21.41c.39.39.9.59 1.41.59.51 0 1.02-.2 1.41-.59l7.78-7.78 2.81-2.81c.8-.78.8-2.07 0-2.86zM5.41 20L4 18.59l7.72-7.72 1.47 1.35L5.41 20z\"/>\n",
       "  </svg>\n",
       "      </button>\n",
       "      \n",
       "  <style>\n",
       "    .colab-df-container {\n",
       "      display:flex;\n",
       "      flex-wrap:wrap;\n",
       "      gap: 12px;\n",
       "    }\n",
       "\n",
       "    .colab-df-convert {\n",
       "      background-color: #E8F0FE;\n",
       "      border: none;\n",
       "      border-radius: 50%;\n",
       "      cursor: pointer;\n",
       "      display: none;\n",
       "      fill: #1967D2;\n",
       "      height: 32px;\n",
       "      padding: 0 0 0 0;\n",
       "      width: 32px;\n",
       "    }\n",
       "\n",
       "    .colab-df-convert:hover {\n",
       "      background-color: #E2EBFA;\n",
       "      box-shadow: 0px 1px 2px rgba(60, 64, 67, 0.3), 0px 1px 3px 1px rgba(60, 64, 67, 0.15);\n",
       "      fill: #174EA6;\n",
       "    }\n",
       "\n",
       "    [theme=dark] .colab-df-convert {\n",
       "      background-color: #3B4455;\n",
       "      fill: #D2E3FC;\n",
       "    }\n",
       "\n",
       "    [theme=dark] .colab-df-convert:hover {\n",
       "      background-color: #434B5C;\n",
       "      box-shadow: 0px 1px 3px 1px rgba(0, 0, 0, 0.15);\n",
       "      filter: drop-shadow(0px 1px 2px rgba(0, 0, 0, 0.3));\n",
       "      fill: #FFFFFF;\n",
       "    }\n",
       "  </style>\n",
       "\n",
       "      <script>\n",
       "        const buttonEl =\n",
       "          document.querySelector('#df-4a9020b5-c447-467b-babd-1a8a6941b1ba button.colab-df-convert');\n",
       "        buttonEl.style.display =\n",
       "          google.colab.kernel.accessAllowed ? 'block' : 'none';\n",
       "\n",
       "        async function convertToInteractive(key) {\n",
       "          const element = document.querySelector('#df-4a9020b5-c447-467b-babd-1a8a6941b1ba');\n",
       "          const dataTable =\n",
       "            await google.colab.kernel.invokeFunction('convertToInteractive',\n",
       "                                                     [key], {});\n",
       "          if (!dataTable) return;\n",
       "\n",
       "          const docLinkHtml = 'Like what you see? Visit the ' +\n",
       "            '<a target=\"_blank\" href=https://colab.research.google.com/notebooks/data_table.ipynb>data table notebook</a>'\n",
       "            + ' to learn more about interactive tables.';\n",
       "          element.innerHTML = '';\n",
       "          dataTable['output_type'] = 'display_data';\n",
       "          await google.colab.output.renderOutput(dataTable, element);\n",
       "          const docLink = document.createElement('div');\n",
       "          docLink.innerHTML = docLinkHtml;\n",
       "          element.appendChild(docLink);\n",
       "        }\n",
       "      </script>\n",
       "    </div>\n",
       "  </div>\n",
       "  "
      ],
      "text/plain": [
       "        is_sarcastic                                           headline  \\\n",
       "count   28619.000000                                              28619   \n",
       "unique           NaN                                              28503   \n",
       "top              NaN  'no way to prevent this,' says only nation whe...   \n",
       "freq             NaN                                                 12   \n",
       "mean        0.476397                                                NaN   \n",
       "std         0.499451                                                NaN   \n",
       "min         0.000000                                                NaN   \n",
       "25%         0.000000                                                NaN   \n",
       "50%         0.000000                                                NaN   \n",
       "75%         1.000000                                                NaN   \n",
       "max         1.000000                                                NaN   \n",
       "\n",
       "                                             article_link  \n",
       "count                                               28619  \n",
       "unique                                              28617  \n",
       "top     https://politics.theonion.com/nation-not-sure-...  \n",
       "freq                                                    2  \n",
       "mean                                                  NaN  \n",
       "std                                                   NaN  \n",
       "min                                                   NaN  \n",
       "25%                                                   NaN  \n",
       "50%                                                   NaN  \n",
       "75%                                                   NaN  \n",
       "max                                                   NaN  "
      ]
     },
     "execution_count": 33,
     "metadata": {},
     "output_type": "execute_result"
    }
   ],
   "source": [
    "sarcasm_headlines.describe(include='all')"
   ]
  },
  {
   "cell_type": "code",
   "execution_count": null,
   "id": "R4DBalQxl2wL",
   "metadata": {
    "colab": {
     "base_uri": "https://localhost:8080/"
    },
    "executionInfo": {
     "elapsed": 1138,
     "status": "ok",
     "timestamp": 1669710739424,
     "user": {
      "displayName": "Vandana Kaarthik",
      "userId": "07645979193492493987"
     },
     "user_tz": -330
    },
    "id": "R4DBalQxl2wL",
    "outputId": "924170ea-7156-4f67-c9a7-b27ea5860fad"
   },
   "outputs": [
    {
     "data": {
      "text/plain": [
       "is_sarcastic    0\n",
       "headline        0\n",
       "article_link    0\n",
       "dtype: int64"
      ]
     },
     "execution_count": 23,
     "metadata": {},
     "output_type": "execute_result"
    }
   ],
   "source": [
    "# Checking for missing values in the dataset\n",
    "\n",
    "sarcasm_headlines.isnull().sum()"
   ]
  },
  {
   "cell_type": "markdown",
   "id": "OHrr8eg3h9S4",
   "metadata": {
    "id": "OHrr8eg3h9S4"
   },
   "source": [
    "<em><strong>Observation:</strong></em>There are no null values in the dataset"
   ]
  },
  {
   "cell_type": "code",
   "execution_count": null,
   "id": "qaEodazTmf7a",
   "metadata": {
    "colab": {
     "base_uri": "https://localhost:8080/",
     "height": 337
    },
    "executionInfo": {
     "elapsed": 583,
     "status": "ok",
     "timestamp": 1669711033917,
     "user": {
      "displayName": "Vandana Kaarthik",
      "userId": "07645979193492493987"
     },
     "user_tz": -330
    },
    "id": "qaEodazTmf7a",
    "outputId": "1464fd8e-dbf4-4df3-e916-787afedd9ca7"
   },
   "outputs": [
    {
     "data": {
      "image/png": "[encoded data removed]",
      "text/plain": [
       "<Figure size 432x288 with 1 Axes>"
      ]
     },
     "metadata": {},
     "output_type": "display_data"
    },
    {
     "data": {
      "text/plain": [
       "0    0.523603\n",
       "1    0.476397\n",
       "Name: is_sarcastic, dtype: float64"
      ]
     },
     "execution_count": 31,
     "metadata": {},
     "output_type": "execute_result"
    }
   ],
   "source": [
    "# Distribution of the target variable.\n",
    "\n",
    "sns.set_theme(style='darkgrid')\n",
    "sns.set_context('notebook')\n",
    "sns.countplot(data=sarcasm_headlines, x='is_sarcastic')\n",
    "plt.show()\n",
    "sarcasm_headlines.is_sarcastic.value_counts(normalize=True)"
   ]
  },
  {
   "cell_type": "markdown",
   "id": "5JNJ7cPjiTtO",
   "metadata": {
    "id": "5JNJ7cPjiTtO"
   },
   "source": [
    "<em><strong>Insight:</strong></em>\n",
    "From the above countplot, it is evident that the target class is almost balanced."
   ]
  },
  {
   "cell_type": "markdown",
   "id": "7d8b8ebe-f776-4838-8b2b-4695480a6b84",
   "metadata": {
    "id": "7d8b8ebe-f776-4838-8b2b-4695480a6b84"
   },
   "source": [
    "<h4 style=\"color:indianred\"><em>2. <ins>Retaining the relevant columns:</ins></em></h4>"
   ]
  },
  {
   "cell_type": "code",
   "execution_count": null,
   "id": "mRHKWTPxnW6W",
   "metadata": {
    "id": "mRHKWTPxnW6W"
   },
   "outputs": [],
   "source": [
    "# Dropping the 'article_link' column as it is not required for the model and retaining the other columns\n",
    "\n",
    "sarcasm_headlines.drop(['article_link'], axis=1, inplace=True)\n"
   ]
  },
  {
   "cell_type": "code",
   "execution_count": null,
   "id": "HeYo4VYho_bf",
   "metadata": {
    "colab": {
     "base_uri": "https://localhost:8080/",
     "height": 206
    },
    "executionInfo": {
     "elapsed": 783,
     "status": "ok",
     "timestamp": 1669711277011,
     "user": {
      "displayName": "Vandana Kaarthik",
      "userId": "07645979193492493987"
     },
     "user_tz": -330
    },
    "id": "HeYo4VYho_bf",
    "outputId": "c1c7374e-ad81-4cba-feb5-43ff6ab113a0"
   },
   "outputs": [
    {
     "data": {
      "text/html": [
       "\n",
       "  <div id=\"df-681a8696-fc0c-420e-a20c-21363b1fa024\">\n",
       "    <div class=\"colab-df-container\">\n",
       "      <div>\n",
       "<style scoped>\n",
       "    .dataframe tbody tr th:only-of-type {\n",
       "        vertical-align: middle;\n",
       "    }\n",
       "\n",
       "    .dataframe tbody tr th {\n",
       "        vertical-align: top;\n",
       "    }\n",
       "\n",
       "    .dataframe thead th {\n",
       "        text-align: right;\n",
       "    }\n",
       "</style>\n",
       "<table border=\"1\" class=\"dataframe\">\n",
       "  <thead>\n",
       "    <tr style=\"text-align: right;\">\n",
       "      <th></th>\n",
       "      <th>is_sarcastic</th>\n",
       "      <th>headline</th>\n",
       "    </tr>\n",
       "  </thead>\n",
       "  <tbody>\n",
       "    <tr>\n",
       "      <th>0</th>\n",
       "      <td>1</td>\n",
       "      <td>thirtysomething scientists unveil doomsday clo...</td>\n",
       "    </tr>\n",
       "    <tr>\n",
       "      <th>1</th>\n",
       "      <td>0</td>\n",
       "      <td>dem rep. totally nails why congress is falling...</td>\n",
       "    </tr>\n",
       "    <tr>\n",
       "      <th>2</th>\n",
       "      <td>0</td>\n",
       "      <td>eat your veggies: 9 deliciously different recipes</td>\n",
       "    </tr>\n",
       "    <tr>\n",
       "      <th>3</th>\n",
       "      <td>1</td>\n",
       "      <td>inclement weather prevents liar from getting t...</td>\n",
       "    </tr>\n",
       "    <tr>\n",
       "      <th>4</th>\n",
       "      <td>1</td>\n",
       "      <td>mother comes pretty close to using word 'strea...</td>\n",
       "    </tr>\n",
       "  </tbody>\n",
       "</table>\n",
       "</div>\n",
       "      <button class=\"colab-df-convert\" onclick=\"convertToInteractive('df-681a8696-fc0c-420e-a20c-21363b1fa024')\"\n",
       "              title=\"Convert this dataframe to an interactive table.\"\n",
       "              style=\"display:none;\">\n",
       "        \n",
       "  <svg xmlns=\"http://www.w3.org/2000/svg\" height=\"24px\"viewBox=\"0 0 24 24\"\n",
       "       width=\"24px\">\n",
       "    <path d=\"M0 0h24v24H0V0z\" fill=\"none\"/>\n",
       "    <path d=\"M18.56 5.44l.94 2.06.94-2.06 2.06-.94-2.06-.94-.94-2.06-.94 2.06-2.06.94zm-11 1L8.5 8.5l.94-2.06 2.06-.94-2.06-.94L8.5 2.5l-.94 2.06-2.06.94zm10 10l.94 2.06.94-2.06 2.06-.94-2.06-.94-.94-2.06-.94 2.06-2.06.94z\"/><path d=\"M17.41 7.96l-1.37-1.37c-.4-.4-.92-.59-1.43-.59-.52 0-1.04.2-1.43.59L10.3 9.45l-7.72 7.72c-.78.78-.78 2.05 0 2.83L4 21.41c.39.39.9.59 1.41.59.51 0 1.02-.2 1.41-.59l7.78-7.78 2.81-2.81c.8-.78.8-2.07 0-2.86zM5.41 20L4 18.59l7.72-7.72 1.47 1.35L5.41 20z\"/>\n",
       "  </svg>\n",
       "      </button>\n",
       "      \n",
       "  <style>\n",
       "    .colab-df-container {\n",
       "      display:flex;\n",
       "      flex-wrap:wrap;\n",
       "      gap: 12px;\n",
       "    }\n",
       "\n",
       "    .colab-df-convert {\n",
       "      background-color: #E8F0FE;\n",
       "      border: none;\n",
       "      border-radius: 50%;\n",
       "      cursor: pointer;\n",
       "      display: none;\n",
       "      fill: #1967D2;\n",
       "      height: 32px;\n",
       "      padding: 0 0 0 0;\n",
       "      width: 32px;\n",
       "    }\n",
       "\n",
       "    .colab-df-convert:hover {\n",
       "      background-color: #E2EBFA;\n",
       "      box-shadow: 0px 1px 2px rgba(60, 64, 67, 0.3), 0px 1px 3px 1px rgba(60, 64, 67, 0.15);\n",
       "      fill: #174EA6;\n",
       "    }\n",
       "\n",
       "    [theme=dark] .colab-df-convert {\n",
       "      background-color: #3B4455;\n",
       "      fill: #D2E3FC;\n",
       "    }\n",
       "\n",
       "    [theme=dark] .colab-df-convert:hover {\n",
       "      background-color: #434B5C;\n",
       "      box-shadow: 0px 1px 3px 1px rgba(0, 0, 0, 0.15);\n",
       "      filter: drop-shadow(0px 1px 2px rgba(0, 0, 0, 0.3));\n",
       "      fill: #FFFFFF;\n",
       "    }\n",
       "  </style>\n",
       "\n",
       "      <script>\n",
       "        const buttonEl =\n",
       "          document.querySelector('#df-681a8696-fc0c-420e-a20c-21363b1fa024 button.colab-df-convert');\n",
       "        buttonEl.style.display =\n",
       "          google.colab.kernel.accessAllowed ? 'block' : 'none';\n",
       "\n",
       "        async function convertToInteractive(key) {\n",
       "          const element = document.querySelector('#df-681a8696-fc0c-420e-a20c-21363b1fa024');\n",
       "          const dataTable =\n",
       "            await google.colab.kernel.invokeFunction('convertToInteractive',\n",
       "                                                     [key], {});\n",
       "          if (!dataTable) return;\n",
       "\n",
       "          const docLinkHtml = 'Like what you see? Visit the ' +\n",
       "            '<a target=\"_blank\" href=https://colab.research.google.com/notebooks/data_table.ipynb>data table notebook</a>'\n",
       "            + ' to learn more about interactive tables.';\n",
       "          element.innerHTML = '';\n",
       "          dataTable['output_type'] = 'display_data';\n",
       "          await google.colab.output.renderOutput(dataTable, element);\n",
       "          const docLink = document.createElement('div');\n",
       "          docLink.innerHTML = docLinkHtml;\n",
       "          element.appendChild(docLink);\n",
       "        }\n",
       "      </script>\n",
       "    </div>\n",
       "  </div>\n",
       "  "
      ],
      "text/plain": [
       "   is_sarcastic                                           headline\n",
       "0             1  thirtysomething scientists unveil doomsday clo...\n",
       "1             0  dem rep. totally nails why congress is falling...\n",
       "2             0  eat your veggies: 9 deliciously different recipes\n",
       "3             1  inclement weather prevents liar from getting t...\n",
       "4             1  mother comes pretty close to using word 'strea..."
      ]
     },
     "execution_count": 35,
     "metadata": {},
     "output_type": "execute_result"
    }
   ],
   "source": [
    "sarcasm_headlines.head()"
   ]
  },
  {
   "cell_type": "code",
   "execution_count": null,
   "id": "piq13KTuplF1",
   "metadata": {
    "colab": {
     "base_uri": "https://localhost:8080/"
    },
    "executionInfo": {
     "elapsed": 1024,
     "status": "ok",
     "timestamp": 1669711289758,
     "user": {
      "displayName": "Vandana Kaarthik",
      "userId": "07645979193492493987"
     },
     "user_tz": -330
    },
    "id": "piq13KTuplF1",
    "outputId": "efccc00e-02c2-46d3-eaf2-0a0f589028a7"
   },
   "outputs": [
    {
     "data": {
      "text/plain": [
       "116"
      ]
     },
     "execution_count": 36,
     "metadata": {},
     "output_type": "execute_result"
    }
   ],
   "source": [
    "# Checking for duplicate values\n",
    "\n",
    "sarcasm_headlines.duplicated().sum()"
   ]
  },
  {
   "cell_type": "code",
   "execution_count": null,
   "id": "elsuB8PxptPT",
   "metadata": {
    "id": "elsuB8PxptPT"
   },
   "outputs": [],
   "source": [
    "# Removing the duplicates\n",
    "\n",
    "sarcasm_headlines.drop_duplicates(inplace=True)"
   ]
  },
  {
   "cell_type": "code",
   "execution_count": null,
   "id": "HhZFLwkKpvxP",
   "metadata": {
    "colab": {
     "base_uri": "https://localhost:8080/"
    },
    "executionInfo": {
     "elapsed": 7,
     "status": "ok",
     "timestamp": 1669711297543,
     "user": {
      "displayName": "Vandana Kaarthik",
      "userId": "07645979193492493987"
     },
     "user_tz": -330
    },
    "id": "HhZFLwkKpvxP",
    "outputId": "438fb00b-db59-4f71-9217-a54394a3a48f"
   },
   "outputs": [
    {
     "data": {
      "text/plain": [
       "0"
      ]
     },
     "execution_count": 38,
     "metadata": {},
     "output_type": "execute_result"
    }
   ],
   "source": [
    "sarcasm_headlines.duplicated().sum()"
   ]
  },
  {
   "cell_type": "markdown",
   "id": "c5888591-860c-4be0-a081-c8c873679eb5",
   "metadata": {
    "id": "c5888591-860c-4be0-a081-c8c873679eb5"
   },
   "source": [
    "<h4 style=\"color:indianred\"><em>3. <ins>Getting the length of each sentence:</ins></em></h4>"
   ]
  },
  {
   "cell_type": "code",
   "execution_count": null,
   "id": "J4RABJixqmKw",
   "metadata": {
    "id": "J4RABJixqmKw"
   },
   "outputs": [],
   "source": [
    "# Create column 'text_len' to store the length of each sentence\n",
    "\n",
    "sarcasm_headlines['text_len'] = [len(txt) for txt in sarcasm_headlines.headline]"
   ]
  },
  {
   "cell_type": "code",
   "execution_count": null,
   "id": "v6kAyz95jLQR",
   "metadata": {
    "colab": {
     "base_uri": "https://localhost:8080/",
     "height": 206
    },
    "executionInfo": {
     "elapsed": 8,
     "status": "ok",
     "timestamp": 1669711396829,
     "user": {
      "displayName": "Vandana Kaarthik",
      "userId": "07645979193492493987"
     },
     "user_tz": -330
    },
    "id": "v6kAyz95jLQR",
    "outputId": "399d347c-4e78-4675-8faa-89bfb27a38c3"
   },
   "outputs": [
    {
     "data": {
      "text/html": [
       "\n",
       "  <div id=\"df-c1ab00b5-77c8-48d9-a077-9f43d8d6a5ed\">\n",
       "    <div class=\"colab-df-container\">\n",
       "      <div>\n",
       "<style scoped>\n",
       "    .dataframe tbody tr th:only-of-type {\n",
       "        vertical-align: middle;\n",
       "    }\n",
       "\n",
       "    .dataframe tbody tr th {\n",
       "        vertical-align: top;\n",
       "    }\n",
       "\n",
       "    .dataframe thead th {\n",
       "        text-align: right;\n",
       "    }\n",
       "</style>\n",
       "<table border=\"1\" class=\"dataframe\">\n",
       "  <thead>\n",
       "    <tr style=\"text-align: right;\">\n",
       "      <th></th>\n",
       "      <th>is_sarcastic</th>\n",
       "      <th>headline</th>\n",
       "      <th>text_len</th>\n",
       "    </tr>\n",
       "  </thead>\n",
       "  <tbody>\n",
       "    <tr>\n",
       "      <th>0</th>\n",
       "      <td>1</td>\n",
       "      <td>thirtysomething scientists unveil doomsday clo...</td>\n",
       "      <td>61</td>\n",
       "    </tr>\n",
       "    <tr>\n",
       "      <th>1</th>\n",
       "      <td>0</td>\n",
       "      <td>dem rep. totally nails why congress is falling...</td>\n",
       "      <td>79</td>\n",
       "    </tr>\n",
       "    <tr>\n",
       "      <th>2</th>\n",
       "      <td>0</td>\n",
       "      <td>eat your veggies: 9 deliciously different recipes</td>\n",
       "      <td>49</td>\n",
       "    </tr>\n",
       "    <tr>\n",
       "      <th>3</th>\n",
       "      <td>1</td>\n",
       "      <td>inclement weather prevents liar from getting t...</td>\n",
       "      <td>52</td>\n",
       "    </tr>\n",
       "    <tr>\n",
       "      <th>4</th>\n",
       "      <td>1</td>\n",
       "      <td>mother comes pretty close to using word 'strea...</td>\n",
       "      <td>61</td>\n",
       "    </tr>\n",
       "  </tbody>\n",
       "</table>\n",
       "</div>\n",
       "      <button class=\"colab-df-convert\" onclick=\"convertToInteractive('df-c1ab00b5-77c8-48d9-a077-9f43d8d6a5ed')\"\n",
       "              title=\"Convert this dataframe to an interactive table.\"\n",
       "              style=\"display:none;\">\n",
       "        \n",
       "  <svg xmlns=\"http://www.w3.org/2000/svg\" height=\"24px\"viewBox=\"0 0 24 24\"\n",
       "       width=\"24px\">\n",
       "    <path d=\"M0 0h24v24H0V0z\" fill=\"none\"/>\n",
       "    <path d=\"M18.56 5.44l.94 2.06.94-2.06 2.06-.94-2.06-.94-.94-2.06-.94 2.06-2.06.94zm-11 1L8.5 8.5l.94-2.06 2.06-.94-2.06-.94L8.5 2.5l-.94 2.06-2.06.94zm10 10l.94 2.06.94-2.06 2.06-.94-2.06-.94-.94-2.06-.94 2.06-2.06.94z\"/><path d=\"M17.41 7.96l-1.37-1.37c-.4-.4-.92-.59-1.43-.59-.52 0-1.04.2-1.43.59L10.3 9.45l-7.72 7.72c-.78.78-.78 2.05 0 2.83L4 21.41c.39.39.9.59 1.41.59.51 0 1.02-.2 1.41-.59l7.78-7.78 2.81-2.81c.8-.78.8-2.07 0-2.86zM5.41 20L4 18.59l7.72-7.72 1.47 1.35L5.41 20z\"/>\n",
       "  </svg>\n",
       "      </button>\n",
       "      \n",
       "  <style>\n",
       "    .colab-df-container {\n",
       "      display:flex;\n",
       "      flex-wrap:wrap;\n",
       "      gap: 12px;\n",
       "    }\n",
       "\n",
       "    .colab-df-convert {\n",
       "      background-color: #E8F0FE;\n",
       "      border: none;\n",
       "      border-radius: 50%;\n",
       "      cursor: pointer;\n",
       "      display: none;\n",
       "      fill: #1967D2;\n",
       "      height: 32px;\n",
       "      padding: 0 0 0 0;\n",
       "      width: 32px;\n",
       "    }\n",
       "\n",
       "    .colab-df-convert:hover {\n",
       "      background-color: #E2EBFA;\n",
       "      box-shadow: 0px 1px 2px rgba(60, 64, 67, 0.3), 0px 1px 3px 1px rgba(60, 64, 67, 0.15);\n",
       "      fill: #174EA6;\n",
       "    }\n",
       "\n",
       "    [theme=dark] .colab-df-convert {\n",
       "      background-color: #3B4455;\n",
       "      fill: #D2E3FC;\n",
       "    }\n",
       "\n",
       "    [theme=dark] .colab-df-convert:hover {\n",
       "      background-color: #434B5C;\n",
       "      box-shadow: 0px 1px 3px 1px rgba(0, 0, 0, 0.15);\n",
       "      filter: drop-shadow(0px 1px 2px rgba(0, 0, 0, 0.3));\n",
       "      fill: #FFFFFF;\n",
       "    }\n",
       "  </style>\n",
       "\n",
       "      <script>\n",
       "        const buttonEl =\n",
       "          document.querySelector('#df-c1ab00b5-77c8-48d9-a077-9f43d8d6a5ed button.colab-df-convert');\n",
       "        buttonEl.style.display =\n",
       "          google.colab.kernel.accessAllowed ? 'block' : 'none';\n",
       "\n",
       "        async function convertToInteractive(key) {\n",
       "          const element = document.querySelector('#df-c1ab00b5-77c8-48d9-a077-9f43d8d6a5ed');\n",
       "          const dataTable =\n",
       "            await google.colab.kernel.invokeFunction('convertToInteractive',\n",
       "                                                     [key], {});\n",
       "          if (!dataTable) return;\n",
       "\n",
       "          const docLinkHtml = 'Like what you see? Visit the ' +\n",
       "            '<a target=\"_blank\" href=https://colab.research.google.com/notebooks/data_table.ipynb>data table notebook</a>'\n",
       "            + ' to learn more about interactive tables.';\n",
       "          element.innerHTML = '';\n",
       "          dataTable['output_type'] = 'display_data';\n",
       "          await google.colab.output.renderOutput(dataTable, element);\n",
       "          const docLink = document.createElement('div');\n",
       "          docLink.innerHTML = docLinkHtml;\n",
       "          element.appendChild(docLink);\n",
       "        }\n",
       "      </script>\n",
       "    </div>\n",
       "  </div>\n",
       "  "
      ],
      "text/plain": [
       "   is_sarcastic                                           headline  text_len\n",
       "0             1  thirtysomething scientists unveil doomsday clo...        61\n",
       "1             0  dem rep. totally nails why congress is falling...        79\n",
       "2             0  eat your veggies: 9 deliciously different recipes        49\n",
       "3             1  inclement weather prevents liar from getting t...        52\n",
       "4             1  mother comes pretty close to using word 'strea...        61"
      ]
     },
     "execution_count": 45,
     "metadata": {},
     "output_type": "execute_result"
    }
   ],
   "source": [
    "sarcasm_headlines.head()"
   ]
  },
  {
   "cell_type": "code",
   "execution_count": null,
   "id": "dQKoh6npuECX",
   "metadata": {
    "colab": {
     "base_uri": "https://localhost:8080/"
    },
    "executionInfo": {
     "elapsed": 588,
     "status": "ok",
     "timestamp": 1669711473841,
     "user": {
      "displayName": "Vandana Kaarthik",
      "userId": "07645979193492493987"
     },
     "user_tz": -330
    },
    "id": "dQKoh6npuECX",
    "outputId": "f9a5cc73-1ef6-4142-c5af-a8af76844919"
   },
   "outputs": [
    {
     "data": {
      "text/plain": [
       "count    28503.000000\n",
       "mean        62.380241\n",
       "std         20.706474\n",
       "min          7.000000\n",
       "25%         49.000000\n",
       "50%         62.000000\n",
       "75%         75.000000\n",
       "max        926.000000\n",
       "Name: text_len, dtype: float64"
      ]
     },
     "execution_count": 48,
     "metadata": {},
     "output_type": "execute_result"
    }
   ],
   "source": [
    "sarcasm_headlines.text_len.describe()"
   ]
  },
  {
   "cell_type": "code",
   "execution_count": null,
   "id": "SctooZijkzmz",
   "metadata": {
    "colab": {
     "base_uri": "https://localhost:8080/",
     "height": 365
    },
    "executionInfo": {
     "elapsed": 1665,
     "status": "ok",
     "timestamp": 1669711757539,
     "user": {
      "displayName": "Vandana Kaarthik",
      "userId": "07645979193492493987"
     },
     "user_tz": -330
    },
    "id": "SctooZijkzmz",
    "outputId": "02439ba9-efd8-40b1-e889-cfdb0f99de73"
   },
   "outputs": [
    {
     "data": {
      "image/png": "[encoded data removed]",
      "text/plain": [
       "<Figure size 360x360 with 1 Axes>"
      ]
     },
     "metadata": {},
     "output_type": "display_data"
    }
   ],
   "source": [
    "sns.set_style('darkgrid')\n",
    "sns.set_context('notebook')\n",
    "sns.displot(sarcasm_headlines.text_len, kde=True, color='palevioletred')\n",
    "plt.show()"
   ]
  },
  {
   "cell_type": "markdown",
   "id": "cY7EG8f6kcQO",
   "metadata": {
    "id": "cY7EG8f6kcQO"
   },
   "source": [
    "<em><strong>Insight:</strong></em>\n",
    "The average length of the sentences seems to be around 62 words."
   ]
  },
  {
   "cell_type": "code",
   "execution_count": null,
   "id": "FT8TBvYykP_M",
   "metadata": {
    "colab": {
     "base_uri": "https://localhost:8080/"
    },
    "executionInfo": {
     "elapsed": 1439,
     "status": "ok",
     "timestamp": 1669711611297,
     "user": {
      "displayName": "Vandana Kaarthik",
      "userId": "07645979193492493987"
     },
     "user_tz": -330
    },
    "id": "FT8TBvYykP_M",
    "outputId": "35c90a40-54b3-423b-9a93-ba975cfab973"
   },
   "outputs": [
    {
     "data": {
      "text/plain": [
       "65     700\n",
       "62     671\n",
       "64     622\n",
       "63     610\n",
       "69     601\n",
       "      ... \n",
       "159      1\n",
       "144      1\n",
       "190      1\n",
       "151      1\n",
       "7        1\n",
       "Name: text_len, Length: 154, dtype: int64"
      ]
     },
     "execution_count": 49,
     "metadata": {},
     "output_type": "execute_result"
    }
   ],
   "source": [
    "sarcasm_headlines.text_len.value_counts()"
   ]
  },
  {
   "cell_type": "markdown",
   "id": "72f020a0-fa2f-4bbb-a31a-35b81b96d860",
   "metadata": {
    "id": "72f020a0-fa2f-4bbb-a31a-35b81b96d860"
   },
   "source": [
    "<h4 style=\"color:indianred\"><em>4. <ins>Defining the parameters:</ins></em></h4>"
   ]
  },
  {
   "cell_type": "code",
   "execution_count": null,
   "id": "DsDVL_obvIMD",
   "metadata": {
    "id": "DsDVL_obvIMD"
   },
   "outputs": [],
   "source": [
    "# Maximum length of each sentence\n",
    "max_text_len = 60\n",
    "\n",
    "# Vocabulary size\n",
    "max_features = 10000\n",
    "\n",
    "# Dimension of the word vector\n",
    "embedding_dim = 300"
   ]
  },
  {
   "cell_type": "markdown",
   "id": "28e6bd7e-de8c-4dd1-ba85-a2913a189a10",
   "metadata": {
    "id": "28e6bd7e-de8c-4dd1-ba85-a2913a189a10"
   },
   "source": [
    "<h4 style=\"color:indianred\"><em>5. <ins>Getting the indices for words:</ins></em></h4>"
   ]
  },
  {
   "cell_type": "code",
   "execution_count": null,
   "id": "gO9ZY2rnwINh",
   "metadata": {
    "id": "gO9ZY2rnwINh"
   },
   "outputs": [],
   "source": [
    "# Building the dictionary of indices\n",
    "\n",
    "headlines_text = sarcasm_headlines.headline\n",
    "\n",
    "twitter_tokenizer = Tokenizer(num_words=max_features)\n",
    "twitter_tokenizer.fit_on_texts(headlines_text)"
   ]
  },
  {
   "cell_type": "code",
   "execution_count": null,
   "id": "z6H6V8R6xSSY",
   "metadata": {
    "id": "z6H6V8R6xSSY"
   },
   "outputs": [],
   "source": [
    "# Changing  texts into sequence of indexes\n",
    "\n",
    "headline_idx = twitter_tokenizer.texts_to_sequences(headlines_text)"
   ]
  },
  {
   "cell_type": "code",
   "execution_count": null,
   "id": "AoS92Q6ClkvN",
   "metadata": {
    "colab": {
     "base_uri": "https://localhost:8080/"
    },
    "executionInfo": {
     "elapsed": 5,
     "status": "ok",
     "timestamp": 1669713484206,
     "user": {
      "displayName": "Vandana Kaarthik",
      "userId": "07645979193492493987"
     },
     "user_tz": -330
    },
    "id": "AoS92Q6ClkvN",
    "outputId": "0ce52544-4716-48a6-de12-cdb9e876a22a"
   },
   "outputs": [
    {
     "data": {
      "text/plain": [
       "[[354, 3158, 7456, 2635, 2, 658, 1114],\n",
       " [7457, 1766, 773, 3159, 46, 237, 10, 1835, 1042, 7, 1523, 2148, 1836],\n",
       " [861, 32, 259, 644, 1478],\n",
       " [1585, 6407, 5649, 15, 141, 1, 151],\n",
       " [471, 490, 319, 920, 1, 583, 548, 6408]]"
      ]
     },
     "execution_count": 100,
     "metadata": {},
     "output_type": "execute_result"
    }
   ],
   "source": [
    "headline_idx[:5]"
   ]
  },
  {
   "cell_type": "code",
   "execution_count": null,
   "id": "xRgfMypoyZZg",
   "metadata": {
    "id": "xRgfMypoyZZg"
   },
   "outputs": [],
   "source": [
    "# Padding the sequences to make all the sequences have the same lengths\n",
    "\n",
    "headline_idx = pad_sequences(headline_idx, max_text_len, padding='post', truncating='post')"
   ]
  },
  {
   "cell_type": "code",
   "execution_count": null,
   "id": "9GA1mPXul8sq",
   "metadata": {
    "colab": {
     "base_uri": "https://localhost:8080/"
    },
    "executionInfo": {
     "elapsed": 5,
     "status": "ok",
     "timestamp": 1669712178985,
     "user": {
      "displayName": "Vandana Kaarthik",
      "userId": "07645979193492493987"
     },
     "user_tz": -330
    },
    "id": "9GA1mPXul8sq",
    "outputId": "9761f842-229f-4021-f89d-c6c3b6b620ad"
   },
   "outputs": [
    {
     "data": {
      "text/plain": [
       "array([[ 354, 3158, 7456, 2635,    2,  658, 1114,    0,    0,    0,    0,\n",
       "           0,    0,    0,    0,    0,    0,    0,    0,    0,    0,    0,\n",
       "           0,    0,    0,    0,    0,    0,    0,    0,    0,    0,    0,\n",
       "           0,    0,    0,    0,    0,    0,    0,    0,    0,    0,    0,\n",
       "           0,    0,    0,    0,    0,    0,    0,    0,    0,    0,    0,\n",
       "           0,    0,    0,    0,    0],\n",
       "       [7457, 1766,  773, 3159,   46,  237,   10, 1835, 1042,    7, 1523,\n",
       "        2148, 1836,    0,    0,    0,    0,    0,    0,    0,    0,    0,\n",
       "           0,    0,    0,    0,    0,    0,    0,    0,    0,    0,    0,\n",
       "           0,    0,    0,    0,    0,    0,    0,    0,    0,    0,    0,\n",
       "           0,    0,    0,    0,    0,    0,    0,    0,    0,    0,    0,\n",
       "           0,    0,    0,    0,    0]], dtype=int32)"
      ]
     },
     "execution_count": 72,
     "metadata": {},
     "output_type": "execute_result"
    }
   ],
   "source": [
    "headline_idx[:2]"
   ]
  },
  {
   "cell_type": "markdown",
   "id": "7291d3b2-97b8-4c1e-b5c0-ba07db065790",
   "metadata": {
    "id": "7291d3b2-97b8-4c1e-b5c0-ba07db065790"
   },
   "source": [
    "<h4 style=\"color:indianred\"><em>6. <ins>Creating the features and labels:</ins></em></h4>"
   ]
  },
  {
   "cell_type": "code",
   "execution_count": null,
   "id": "fnwbRGQ44YC8",
   "metadata": {
    "id": "fnwbRGQ44YC8"
   },
   "outputs": [],
   "source": [
    "# Splitting the data into features X and labels y\n",
    "\n",
    "X = headline_idx\n",
    "y = sarcasm_headlines.is_sarcastic.values.reshape(-1, 1)"
   ]
  },
  {
   "cell_type": "code",
   "execution_count": null,
   "id": "q9wgJc8xAhdN",
   "metadata": {
    "colab": {
     "base_uri": "https://localhost:8080/"
    },
    "executionInfo": {
     "elapsed": 821,
     "status": "ok",
     "timestamp": 1669719012721,
     "user": {
      "displayName": "Vandana Kaarthik",
      "userId": "07645979193492493987"
     },
     "user_tz": -330
    },
    "id": "q9wgJc8xAhdN",
    "outputId": "42b11e6c-8efe-4236-8a23-b315325c7b45"
   },
   "outputs": [
    {
     "data": {
      "text/plain": [
       "array([[ 354, 3158, 7456, 2635,    2,  658, 1114,    0,    0,    0,    0,\n",
       "           0,    0,    0,    0,    0,    0,    0,    0,    0,    0,    0,\n",
       "           0,    0,    0,    0,    0,    0,    0,    0,    0,    0,    0,\n",
       "           0,    0,    0,    0,    0,    0,    0,    0,    0,    0,    0,\n",
       "           0,    0,    0,    0,    0,    0,    0,    0,    0,    0,    0,\n",
       "           0,    0,    0,    0,    0],\n",
       "       [7457, 1766,  773, 3159,   46,  237,   10, 1835, 1042,    7, 1523,\n",
       "        2148, 1836,    0,    0,    0,    0,    0,    0,    0,    0,    0,\n",
       "           0,    0,    0,    0,    0,    0,    0,    0,    0,    0,    0,\n",
       "           0,    0,    0,    0,    0,    0,    0,    0,    0,    0,    0,\n",
       "           0,    0,    0,    0,    0,    0,    0,    0,    0,    0,    0,\n",
       "           0,    0,    0,    0,    0]], dtype=int32)"
      ]
     },
     "execution_count": 178,
     "metadata": {},
     "output_type": "execute_result"
    }
   ],
   "source": [
    "X[:2]"
   ]
  },
  {
   "cell_type": "code",
   "execution_count": null,
   "id": "gfjFqJ_3_Myo",
   "metadata": {
    "colab": {
     "base_uri": "https://localhost:8080/"
    },
    "executionInfo": {
     "elapsed": 662,
     "status": "ok",
     "timestamp": 1669719767770,
     "user": {
      "displayName": "Vandana Kaarthik",
      "userId": "07645979193492493987"
     },
     "user_tz": -330
    },
    "id": "gfjFqJ_3_Myo",
    "outputId": "c03939d4-8144-4107-df63-cc76ae16e539"
   },
   "outputs": [
    {
     "data": {
      "text/plain": [
       "array([[1],\n",
       "       [0],\n",
       "       [0],\n",
       "       ...,\n",
       "       [0],\n",
       "       [1],\n",
       "       [1]])"
      ]
     },
     "execution_count": 196,
     "metadata": {},
     "output_type": "execute_result"
    }
   ],
   "source": [
    "y"
   ]
  },
  {
   "cell_type": "code",
   "execution_count": null,
   "id": "rHCsYY0u412z",
   "metadata": {
    "colab": {
     "base_uri": "https://localhost:8080/"
    },
    "executionInfo": {
     "elapsed": 1072,
     "status": "ok",
     "timestamp": 1669712280810,
     "user": {
      "displayName": "Vandana Kaarthik",
      "userId": "07645979193492493987"
     },
     "user_tz": -330
    },
    "id": "rHCsYY0u412z",
    "outputId": "41319f77-6e46-4daa-d297-8e0ede682ff3"
   },
   "outputs": [
    {
     "name": "stdout",
     "output_type": "stream",
     "text": [
      "Number of Samples: 28503\n",
      "Number of Labels: 28503\n"
     ]
    }
   ],
   "source": [
    "print(f'Number of Samples: {len(X)}')\n",
    "print(f'Number of Labels: {len(y)}' )"
   ]
  },
  {
   "cell_type": "code",
   "execution_count": null,
   "id": "5rInYdxP_d2-",
   "metadata": {
    "id": "5rInYdxP_d2-"
   },
   "outputs": [],
   "source": [
    "# Splitting the data into train & test with 70:30 proportion\n",
    "\n",
    "X_train, X_test, y_train, y_test = train_test_split(X, y, test_size=0.30, stratify=y, random_state=42)"
   ]
  },
  {
   "cell_type": "code",
   "execution_count": null,
   "id": "yKDpQ2Ny_tby",
   "metadata": {
    "colab": {
     "base_uri": "https://localhost:8080/"
    },
    "executionInfo": {
     "elapsed": 552,
     "status": "ok",
     "timestamp": 1670067127696,
     "user": {
      "displayName": "Vandana Kaarthik",
      "userId": "07645979193492493987"
     },
     "user_tz": -330
    },
    "id": "yKDpQ2Ny_tby",
    "outputId": "a504a464-fe64-4b61-df55-1281657d1530"
   },
   "outputs": [
    {
     "name": "stdout",
     "output_type": "stream",
     "text": [
      "(20033, 60)\n",
      "(8586, 60)\n",
      "(20033, 1)\n",
      "(8586, 1)\n"
     ]
    }
   ],
   "source": [
    "# Shape of the train and test variables\n",
    "\n",
    "print(X_train.shape)\n",
    "print(X_test.shape)\n",
    "print(y_train.shape)\n",
    "print(y_test.shape)"
   ]
  },
  {
   "cell_type": "code",
   "execution_count": null,
   "id": "kFfMyuwF_6eS",
   "metadata": {
    "colab": {
     "base_uri": "https://localhost:8080/",
     "height": 268
    },
    "executionInfo": {
     "elapsed": 8,
     "status": "ok",
     "timestamp": 1669712322309,
     "user": {
      "displayName": "Vandana Kaarthik",
      "userId": "07645979193492493987"
     },
     "user_tz": -330
    },
    "id": "kFfMyuwF_6eS",
    "outputId": "ce9dbddf-c8d2-4a09-a971-d8c68c8275e7"
   },
   "outputs": [
    {
     "data": {
      "image/png": "[encoded data removed]",
      "text/plain": [
       "<Figure size 432x288 with 1 Axes>"
      ]
     },
     "metadata": {},
     "output_type": "display_data"
    }
   ],
   "source": [
    "# Distribution of the target variable in the train dataset\n",
    "\n",
    "sns.set_theme(style=\"darkgrid\")\n",
    "sns.set_context('notebook')\n",
    "sns.countplot(x=y_train)\n",
    "plt.show()"
   ]
  },
  {
   "cell_type": "code",
   "execution_count": null,
   "id": "io--2zdr_84O",
   "metadata": {
    "colab": {
     "base_uri": "https://localhost:8080/",
     "height": 268
    },
    "executionInfo": {
     "elapsed": 7,
     "status": "ok",
     "timestamp": 1669712326036,
     "user": {
      "displayName": "Vandana Kaarthik",
      "userId": "07645979193492493987"
     },
     "user_tz": -330
    },
    "id": "io--2zdr_84O",
    "outputId": "deb8670e-5f61-4ea7-91c7-8cfccb3e31c5"
   },
   "outputs": [
    {
     "data": {
      "image/png": "[encoded data removed]",
      "text/plain": [
       "<Figure size 432x288 with 1 Axes>"
      ]
     },
     "metadata": {},
     "output_type": "display_data"
    }
   ],
   "source": [
    "# Distribution of the target variable in the test dataset\n",
    "\n",
    "sns.set_theme(style=\"darkgrid\")\n",
    "sns.set_context('notebook')\n",
    "sns.countplot(x=y_test)\n",
    "plt.show()"
   ]
  },
  {
   "cell_type": "markdown",
   "id": "kOxIxqJ3ndVl",
   "metadata": {
    "id": "kOxIxqJ3ndVl"
   },
   "source": [
    "<em><strong>Observation:</strong></em>\n",
    "Upon comparing the above 2 distributions, it is evident that the target class distribution is the same for both the train and the test datasets."
   ]
  },
  {
   "cell_type": "markdown",
   "id": "7aab7973-2cdc-4737-8479-b835ec5d2c15",
   "metadata": {
    "id": "7aab7973-2cdc-4737-8479-b835ec5d2c15"
   },
   "source": [
    "<h4 style=\"color:indianred\"><em>7. <ins>Getting the vocabulary size:</ins></em></h4>"
   ]
  },
  {
   "cell_type": "code",
   "execution_count": null,
   "id": "5GmxRerw5OqL",
   "metadata": {
    "colab": {
     "base_uri": "https://localhost:8080/"
    },
    "executionInfo": {
     "elapsed": 550,
     "status": "ok",
     "timestamp": 1669719097290,
     "user": {
      "displayName": "Vandana Kaarthik",
      "userId": "07645979193492493987"
     },
     "user_tz": -330
    },
    "id": "5GmxRerw5OqL",
    "outputId": "7ad19752-85bd-4ba5-a81f-0b75133cd9c4"
   },
   "outputs": [
    {
     "name": "stdout",
     "output_type": "stream",
     "text": [
      "vocabulary size: 30884\n"
     ]
    }
   ],
   "source": [
    "# Getting the original vocabulary size\n",
    "\n",
    "vocab_size = len(twitter_tokenizer.word_index)\n",
    "print(f'vocabulary size: {vocab_size}')"
   ]
  },
  {
   "cell_type": "code",
   "execution_count": null,
   "id": "uOEGMuckrO48",
   "metadata": {
    "id": "uOEGMuckrO48"
   },
   "outputs": [],
   "source": [
    "# Extracting the vocabulary dictionary containing the 10000 most frequent words in the data set\n",
    "\n",
    "twitter_vocabulary_dict  = {idx: word for idx, word in twitter_tokenizer.index_word.items() if idx<max_features}"
   ]
  },
  {
   "cell_type": "code",
   "execution_count": null,
   "id": "6rB_YrKu5a6F",
   "metadata": {
    "colab": {
     "base_uri": "https://localhost:8080/"
    },
    "executionInfo": {
     "elapsed": 1059,
     "status": "ok",
     "timestamp": 1669713668553,
     "user": {
      "displayName": "Vandana Kaarthik",
      "userId": "07645979193492493987"
     },
     "user_tz": -330
    },
    "id": "6rB_YrKu5a6F",
    "outputId": "271db1ef-d6cd-4506-9577-83c110966063"
   },
   "outputs": [
    {
     "data": {
      "text/plain": [
       "{1: 'to',\n",
       " 2: 'of',\n",
       " 3: 'the',\n",
       " 4: 'in',\n",
       " 5: 'for',\n",
       " 6: 'a',\n",
       " 7: 'on',\n",
       " 8: 'and',\n",
       " 9: 'with',\n",
       " 10: 'is',\n",
       " 11: 'new',\n",
       " 12: 'trump',\n",
       " 13: 'man',\n",
       " 14: 'at',\n",
       " 15: 'from',\n",
       " 16: 'about',\n",
       " 17: 'by',\n",
       " 18: 'after',\n",
       " 19: 'you',\n",
       " 20: 'out',\n",
       " 21: 'up',\n",
       " 22: 'be',\n",
       " 23: 'this',\n",
       " 24: 'as',\n",
       " 25: 'that',\n",
       " 26: 'it',\n",
       " 27: 'how',\n",
       " 28: 'not',\n",
       " 29: 'he',\n",
       " 30: 'his',\n",
       " 31: 'are',\n",
       " 32: 'your',\n",
       " 33: 'just',\n",
       " 34: 'what',\n",
       " 35: 'all',\n",
       " 36: 'who',\n",
       " 37: 'has',\n",
       " 38: 'will',\n",
       " 39: 'report',\n",
       " 40: 'into',\n",
       " 41: 'more',\n",
       " 42: 'one',\n",
       " 43: 'have',\n",
       " 44: 'year',\n",
       " 45: 'over',\n",
       " 46: 'why',\n",
       " 47: 'u',\n",
       " 48: 'day',\n",
       " 49: 'area',\n",
       " 50: 'woman'}"
      ]
     },
     "execution_count": 110,
     "metadata": {},
     "output_type": "execute_result"
    }
   ],
   "source": [
    "# Printing the 50 most frequent words in the vocabulary dictionary\n",
    "\n",
    "{idx: word for idx, word in twitter_vocabulary_dict.items() if idx<=50}"
   ]
  },
  {
   "cell_type": "markdown",
   "id": "903060d0-ea0c-4ac7-818d-2b58f81e91bd",
   "metadata": {
    "id": "903060d0-ea0c-4ac7-818d-2b58f81e91bd"
   },
   "source": [
    "<h4 style=\"color:indianred\"><em>8. <ins>Creating a weight matrix using GloVe embeddings:</ins></em></h4>"
   ]
  },
  {
   "cell_type": "code",
   "execution_count": null,
   "id": "GVRwrbysxeZN",
   "metadata": {
    "id": "GVRwrbysxeZN"
   },
   "outputs": [],
   "source": [
    "# Extracting ‘glove.6B.zip’ into a new folder (unzipped)\n",
    "\n",
    "file_name = '/content/drive/MyDrive/AIML/NLP/Project2 - Seq NLP/glove.6B.zip'\n",
    "with ZipFile(file_name, 'r') as zip_file:\n",
    "    zip_file.extractall()"
   ]
  },
  {
   "cell_type": "code",
   "execution_count": null,
   "id": "wRUGgL1xxvhg",
   "metadata": {
    "colab": {
     "base_uri": "https://localhost:8080/"
    },
    "executionInfo": {
     "elapsed": 568,
     "status": "ok",
     "timestamp": 1670067244257,
     "user": {
      "displayName": "Vandana Kaarthik",
      "userId": "07645979193492493987"
     },
     "user_tz": -330
    },
    "id": "wRUGgL1xxvhg",
    "outputId": "50955cc5-d692-4861-ba04-df47079942c1"
   },
   "outputs": [
    {
     "data": {
      "text/plain": [
       "['.config',\n",
       " 'glove.6B.50d.txt',\n",
       " 'glove.6B.100d.txt',\n",
       " 'glove.6B.200d.txt',\n",
       " 'glove.6B.300d.txt',\n",
       " 'drive',\n",
       " 'sample_data']"
      ]
     },
     "execution_count": 16,
     "metadata": {},
     "output_type": "execute_result"
    }
   ],
   "source": [
    "os.listdir()"
   ]
  },
  {
   "cell_type": "code",
   "execution_count": null,
   "id": "5lVAPDzLx2mT",
   "metadata": {
    "id": "5lVAPDzLx2mT"
   },
   "outputs": [],
   "source": [
    "# Path of the GloVe embeddings\n",
    "\n",
    "path = '/content/glove.6B.300d.txt' "
   ]
  },
  {
   "cell_type": "code",
   "execution_count": null,
   "id": "IqxTNE1zyAin",
   "metadata": {
    "id": "IqxTNE1zyAin"
   },
   "outputs": [],
   "source": [
    "# Function to get the GloVE embeddings\n",
    "\n",
    "def get_glove_vectors(path):\n",
    "    \"\"\"Return the dictionary of pre-trained global vectors\n",
    "    \n",
    "    Args:    \n",
    "        path (str): The path of the GloVe embeddings textfile.\n",
    "\n",
    "    Returns:    \n",
    "        glove_vector_dict (dict): The dictionary containing words with their global vectors\n",
    "    \"\"\"\n",
    "    # Dictionary to store the GloVe word embeddings \n",
    "    glove_vector_dict = {}\n",
    "\n",
    "    with open(path) as f:\n",
    "        for line in f:            \n",
    "            values = line.split()            \n",
    "            word = values[0]            \n",
    "            vector = values[1:]            \n",
    "            glove_vector_dict[word] = np.asarray(vector, dtype='float32')\n",
    "            \n",
    "    return glove_vector_dict\n"
   ]
  },
  {
   "cell_type": "code",
   "execution_count": null,
   "id": "TWCAGV__ye5f",
   "metadata": {
    "id": "TWCAGV__ye5f"
   },
   "outputs": [],
   "source": [
    "# Extracting the dictionary of GloVe vectors\n",
    "\n",
    "glove_vectors_dict = get_glove_vectors(path)"
   ]
  },
  {
   "cell_type": "code",
   "execution_count": null,
   "id": "j6XTArVFyvHT",
   "metadata": {
    "colab": {
     "base_uri": "https://localhost:8080/",
     "height": 300
    },
    "executionInfo": {
     "elapsed": 7441,
     "status": "ok",
     "timestamp": 1670067310871,
     "user": {
      "displayName": "Vandana Kaarthik",
      "userId": "07645979193492493987"
     },
     "user_tz": -330
    },
    "id": "j6XTArVFyvHT",
    "outputId": "2e764da5-0cd6-43fc-aa08-5871fb4aa625"
   },
   "outputs": [
    {
     "data": {
      "text/html": [
       "\n",
       "  <div id=\"df-cab5ba1a-0bc0-406b-a518-f7cedef89617\">\n",
       "    <div class=\"colab-df-container\">\n",
       "      <div>\n",
       "<style scoped>\n",
       "    .dataframe tbody tr th:only-of-type {\n",
       "        vertical-align: middle;\n",
       "    }\n",
       "\n",
       "    .dataframe tbody tr th {\n",
       "        vertical-align: top;\n",
       "    }\n",
       "\n",
       "    .dataframe thead th {\n",
       "        text-align: right;\n",
       "    }\n",
       "</style>\n",
       "<table border=\"1\" class=\"dataframe\">\n",
       "  <thead>\n",
       "    <tr style=\"text-align: right;\">\n",
       "      <th></th>\n",
       "      <th>0</th>\n",
       "      <th>1</th>\n",
       "      <th>2</th>\n",
       "      <th>3</th>\n",
       "      <th>4</th>\n",
       "      <th>5</th>\n",
       "      <th>6</th>\n",
       "      <th>7</th>\n",
       "      <th>8</th>\n",
       "      <th>9</th>\n",
       "      <th>...</th>\n",
       "      <th>290</th>\n",
       "      <th>291</th>\n",
       "      <th>292</th>\n",
       "      <th>293</th>\n",
       "      <th>294</th>\n",
       "      <th>295</th>\n",
       "      <th>296</th>\n",
       "      <th>297</th>\n",
       "      <th>298</th>\n",
       "      <th>299</th>\n",
       "    </tr>\n",
       "  </thead>\n",
       "  <tbody>\n",
       "    <tr>\n",
       "      <th>chanty</th>\n",
       "      <td>0.392700</td>\n",
       "      <td>-0.022505</td>\n",
       "      <td>0.30458</td>\n",
       "      <td>0.187990</td>\n",
       "      <td>0.14118</td>\n",
       "      <td>0.724030</td>\n",
       "      <td>-0.25781</td>\n",
       "      <td>-0.137290</td>\n",
       "      <td>-0.016521</td>\n",
       "      <td>0.595960</td>\n",
       "      <td>...</td>\n",
       "      <td>-0.182950</td>\n",
       "      <td>0.406630</td>\n",
       "      <td>-0.343630</td>\n",
       "      <td>-0.270400</td>\n",
       "      <td>-0.593680</td>\n",
       "      <td>0.016447</td>\n",
       "      <td>0.140740</td>\n",
       "      <td>0.463940</td>\n",
       "      <td>-0.36957</td>\n",
       "      <td>-0.287180</td>\n",
       "    </tr>\n",
       "    <tr>\n",
       "      <th>kronik</th>\n",
       "      <td>0.136790</td>\n",
       "      <td>-0.139090</td>\n",
       "      <td>-0.36089</td>\n",
       "      <td>0.079864</td>\n",
       "      <td>0.32149</td>\n",
       "      <td>0.263870</td>\n",
       "      <td>-0.10990</td>\n",
       "      <td>0.044420</td>\n",
       "      <td>0.083869</td>\n",
       "      <td>0.791330</td>\n",
       "      <td>...</td>\n",
       "      <td>0.036419</td>\n",
       "      <td>-0.036845</td>\n",
       "      <td>-0.348150</td>\n",
       "      <td>0.064732</td>\n",
       "      <td>-0.000577</td>\n",
       "      <td>-0.133790</td>\n",
       "      <td>0.428960</td>\n",
       "      <td>-0.023320</td>\n",
       "      <td>0.41021</td>\n",
       "      <td>-0.393080</td>\n",
       "    </tr>\n",
       "    <tr>\n",
       "      <th>rolonda</th>\n",
       "      <td>0.075713</td>\n",
       "      <td>-0.040502</td>\n",
       "      <td>0.18345</td>\n",
       "      <td>0.512300</td>\n",
       "      <td>-0.22856</td>\n",
       "      <td>0.839110</td>\n",
       "      <td>0.17878</td>\n",
       "      <td>-0.713010</td>\n",
       "      <td>0.326900</td>\n",
       "      <td>0.695350</td>\n",
       "      <td>...</td>\n",
       "      <td>-0.388530</td>\n",
       "      <td>0.545850</td>\n",
       "      <td>-0.035050</td>\n",
       "      <td>-0.184360</td>\n",
       "      <td>-0.197000</td>\n",
       "      <td>-0.350030</td>\n",
       "      <td>0.160650</td>\n",
       "      <td>0.218380</td>\n",
       "      <td>0.30967</td>\n",
       "      <td>0.437610</td>\n",
       "    </tr>\n",
       "    <tr>\n",
       "      <th>zsombor</th>\n",
       "      <td>0.814510</td>\n",
       "      <td>-0.362210</td>\n",
       "      <td>0.31186</td>\n",
       "      <td>0.813810</td>\n",
       "      <td>0.18852</td>\n",
       "      <td>-0.313600</td>\n",
       "      <td>0.82784</td>\n",
       "      <td>0.296560</td>\n",
       "      <td>-0.085519</td>\n",
       "      <td>0.475970</td>\n",
       "      <td>...</td>\n",
       "      <td>0.130880</td>\n",
       "      <td>0.106120</td>\n",
       "      <td>-0.408110</td>\n",
       "      <td>0.313380</td>\n",
       "      <td>-0.430250</td>\n",
       "      <td>0.069798</td>\n",
       "      <td>-0.207690</td>\n",
       "      <td>0.075486</td>\n",
       "      <td>0.28408</td>\n",
       "      <td>-0.175590</td>\n",
       "    </tr>\n",
       "    <tr>\n",
       "      <th>sandberger</th>\n",
       "      <td>0.429191</td>\n",
       "      <td>-0.296897</td>\n",
       "      <td>0.15011</td>\n",
       "      <td>0.245201</td>\n",
       "      <td>-0.00352</td>\n",
       "      <td>-0.057697</td>\n",
       "      <td>0.14090</td>\n",
       "      <td>-0.222294</td>\n",
       "      <td>0.221153</td>\n",
       "      <td>0.767218</td>\n",
       "      <td>...</td>\n",
       "      <td>0.128146</td>\n",
       "      <td>0.097552</td>\n",
       "      <td>-0.130981</td>\n",
       "      <td>-0.142839</td>\n",
       "      <td>-0.175458</td>\n",
       "      <td>-0.168996</td>\n",
       "      <td>-0.022512</td>\n",
       "      <td>0.289750</td>\n",
       "      <td>0.32618</td>\n",
       "      <td>-0.059053</td>\n",
       "    </tr>\n",
       "  </tbody>\n",
       "</table>\n",
       "<p>5 rows × 300 columns</p>\n",
       "</div>\n",
       "      <button class=\"colab-df-convert\" onclick=\"convertToInteractive('df-cab5ba1a-0bc0-406b-a518-f7cedef89617')\"\n",
       "              title=\"Convert this dataframe to an interactive table.\"\n",
       "              style=\"display:none;\">\n",
       "        \n",
       "  <svg xmlns=\"http://www.w3.org/2000/svg\" height=\"24px\"viewBox=\"0 0 24 24\"\n",
       "       width=\"24px\">\n",
       "    <path d=\"M0 0h24v24H0V0z\" fill=\"none\"/>\n",
       "    <path d=\"M18.56 5.44l.94 2.06.94-2.06 2.06-.94-2.06-.94-.94-2.06-.94 2.06-2.06.94zm-11 1L8.5 8.5l.94-2.06 2.06-.94-2.06-.94L8.5 2.5l-.94 2.06-2.06.94zm10 10l.94 2.06.94-2.06 2.06-.94-2.06-.94-.94-2.06-.94 2.06-2.06.94z\"/><path d=\"M17.41 7.96l-1.37-1.37c-.4-.4-.92-.59-1.43-.59-.52 0-1.04.2-1.43.59L10.3 9.45l-7.72 7.72c-.78.78-.78 2.05 0 2.83L4 21.41c.39.39.9.59 1.41.59.51 0 1.02-.2 1.41-.59l7.78-7.78 2.81-2.81c.8-.78.8-2.07 0-2.86zM5.41 20L4 18.59l7.72-7.72 1.47 1.35L5.41 20z\"/>\n",
       "  </svg>\n",
       "      </button>\n",
       "      \n",
       "  <style>\n",
       "    .colab-df-container {\n",
       "      display:flex;\n",
       "      flex-wrap:wrap;\n",
       "      gap: 12px;\n",
       "    }\n",
       "\n",
       "    .colab-df-convert {\n",
       "      background-color: #E8F0FE;\n",
       "      border: none;\n",
       "      border-radius: 50%;\n",
       "      cursor: pointer;\n",
       "      display: none;\n",
       "      fill: #1967D2;\n",
       "      height: 32px;\n",
       "      padding: 0 0 0 0;\n",
       "      width: 32px;\n",
       "    }\n",
       "\n",
       "    .colab-df-convert:hover {\n",
       "      background-color: #E2EBFA;\n",
       "      box-shadow: 0px 1px 2px rgba(60, 64, 67, 0.3), 0px 1px 3px 1px rgba(60, 64, 67, 0.15);\n",
       "      fill: #174EA6;\n",
       "    }\n",
       "\n",
       "    [theme=dark] .colab-df-convert {\n",
       "      background-color: #3B4455;\n",
       "      fill: #D2E3FC;\n",
       "    }\n",
       "\n",
       "    [theme=dark] .colab-df-convert:hover {\n",
       "      background-color: #434B5C;\n",
       "      box-shadow: 0px 1px 3px 1px rgba(0, 0, 0, 0.15);\n",
       "      filter: drop-shadow(0px 1px 2px rgba(0, 0, 0, 0.3));\n",
       "      fill: #FFFFFF;\n",
       "    }\n",
       "  </style>\n",
       "\n",
       "      <script>\n",
       "        const buttonEl =\n",
       "          document.querySelector('#df-cab5ba1a-0bc0-406b-a518-f7cedef89617 button.colab-df-convert');\n",
       "        buttonEl.style.display =\n",
       "          google.colab.kernel.accessAllowed ? 'block' : 'none';\n",
       "\n",
       "        async function convertToInteractive(key) {\n",
       "          const element = document.querySelector('#df-cab5ba1a-0bc0-406b-a518-f7cedef89617');\n",
       "          const dataTable =\n",
       "            await google.colab.kernel.invokeFunction('convertToInteractive',\n",
       "                                                     [key], {});\n",
       "          if (!dataTable) return;\n",
       "\n",
       "          const docLinkHtml = 'Like what you see? Visit the ' +\n",
       "            '<a target=\"_blank\" href=https://colab.research.google.com/notebooks/data_table.ipynb>data table notebook</a>'\n",
       "            + ' to learn more about interactive tables.';\n",
       "          element.innerHTML = '';\n",
       "          dataTable['output_type'] = 'display_data';\n",
       "          await google.colab.output.renderOutput(dataTable, element);\n",
       "          const docLink = document.createElement('div');\n",
       "          docLink.innerHTML = docLinkHtml;\n",
       "          element.appendChild(docLink);\n",
       "        }\n",
       "      </script>\n",
       "    </div>\n",
       "  </div>\n",
       "  "
      ],
      "text/plain": [
       "                 0         1        2         3        4         5        6    \\\n",
       "chanty      0.392700 -0.022505  0.30458  0.187990  0.14118  0.724030 -0.25781   \n",
       "kronik      0.136790 -0.139090 -0.36089  0.079864  0.32149  0.263870 -0.10990   \n",
       "rolonda     0.075713 -0.040502  0.18345  0.512300 -0.22856  0.839110  0.17878   \n",
       "zsombor     0.814510 -0.362210  0.31186  0.813810  0.18852 -0.313600  0.82784   \n",
       "sandberger  0.429191 -0.296897  0.15011  0.245201 -0.00352 -0.057697  0.14090   \n",
       "\n",
       "                 7         8         9    ...       290       291       292  \\\n",
       "chanty     -0.137290 -0.016521  0.595960  ... -0.182950  0.406630 -0.343630   \n",
       "kronik      0.044420  0.083869  0.791330  ...  0.036419 -0.036845 -0.348150   \n",
       "rolonda    -0.713010  0.326900  0.695350  ... -0.388530  0.545850 -0.035050   \n",
       "zsombor     0.296560 -0.085519  0.475970  ...  0.130880  0.106120 -0.408110   \n",
       "sandberger -0.222294  0.221153  0.767218  ...  0.128146  0.097552 -0.130981   \n",
       "\n",
       "                 293       294       295       296       297      298  \\\n",
       "chanty     -0.270400 -0.593680  0.016447  0.140740  0.463940 -0.36957   \n",
       "kronik      0.064732 -0.000577 -0.133790  0.428960 -0.023320  0.41021   \n",
       "rolonda    -0.184360 -0.197000 -0.350030  0.160650  0.218380  0.30967   \n",
       "zsombor     0.313380 -0.430250  0.069798 -0.207690  0.075486  0.28408   \n",
       "sandberger -0.142839 -0.175458 -0.168996 -0.022512  0.289750  0.32618   \n",
       "\n",
       "                 299  \n",
       "chanty     -0.287180  \n",
       "kronik     -0.393080  \n",
       "rolonda     0.437610  \n",
       "zsombor    -0.175590  \n",
       "sandberger -0.059053  \n",
       "\n",
       "[5 rows x 300 columns]"
      ]
     },
     "execution_count": 20,
     "metadata": {},
     "output_type": "execute_result"
    }
   ],
   "source": [
    "# Displaying a few glove vectors\n",
    "\n",
    "glove_vectors_df = pd.DataFrame(glove_vectors_dict).T\n",
    "glove_vectors_df.tail()"
   ]
  },
  {
   "cell_type": "code",
   "execution_count": null,
   "id": "V2ZhU9N3w2Oa",
   "metadata": {
    "id": "V2ZhU9N3w2Oa"
   },
   "outputs": [],
   "source": [
    "# Function to extract glove vectors for the given vocabulary\n",
    "\n",
    "def filter_glove_words_twitter(vocabulary_dict, glove_vectors_dict, embedding_dim=300):\n",
    "    \"\"\"Extract the glove vectors for the given vocabulary\n",
    "    \n",
    "    Args:    \n",
    "        vocabulary_dict (dict): The vocabulary set.\n",
    "        glove_vectors_dict (dict): The glove words with their embeddings\n",
    "        embedding_dim (int): The dimension of the embeddings\n",
    "\n",
    "    Returns:    \n",
    "        embedding_matrix (numpy array): The matrix containing the embeddings for the vocabulary\n",
    "    \"\"\"\n",
    "    # Creating a matrix to store the vectors    \n",
    "    embedding_matrix = np.zeros((len(vocabulary_dict)+1, embedding_dim))\n",
    "\n",
    "    for i, word in vocabulary_dict.items():    \n",
    "        embedding_vector = glove_vectors_dict.get(word)\n",
    "        \n",
    "        if embedding_vector is not None:\n",
    "            # Words not found in the glove_vectors_dict will be all-zeros.        \n",
    "            embedding_matrix[i] = embedding_vector\n",
    "        \n",
    "    return embedding_matrix"
   ]
  },
  {
   "cell_type": "code",
   "execution_count": null,
   "id": "yyncmUYL7oVT",
   "metadata": {
    "id": "yyncmUYL7oVT"
   },
   "outputs": [],
   "source": [
    "# Extracting the Weight matrix using GloVe embeddings for the given vocabulary\n",
    "\n",
    "twitter_embedding_matrix = filter_glove_words_twitter(twitter_vocabulary_dict, glove_vectors_dict, embedding_dim)"
   ]
  },
  {
   "cell_type": "code",
   "execution_count": null,
   "id": "qMAokcOn9Cnu",
   "metadata": {
    "colab": {
     "base_uri": "https://localhost:8080/"
    },
    "executionInfo": {
     "elapsed": 4,
     "status": "ok",
     "timestamp": 1669719189117,
     "user": {
      "displayName": "Vandana Kaarthik",
      "userId": "07645979193492493987"
     },
     "user_tz": -330
    },
    "id": "qMAokcOn9Cnu",
    "outputId": "1d98e901-4f7e-4e9c-87fb-8af89d376228"
   },
   "outputs": [
    {
     "data": {
      "text/plain": [
       "10000"
      ]
     },
     "execution_count": 188,
     "metadata": {},
     "output_type": "execute_result"
    }
   ],
   "source": [
    "len(twitter_embedding_matrix)"
   ]
  },
  {
   "cell_type": "markdown",
   "id": "e941f80f-6ba2-45c0-8ec9-5935234077f7",
   "metadata": {
    "id": "e941f80f-6ba2-45c0-8ec9-5935234077f7"
   },
   "source": [
    "<h4 style=\"color:indianred\"><em>9. <ins>Defining and compiling a Bidirectional LSTM model:</ins></em></h4>"
   ]
  },
  {
   "cell_type": "code",
   "execution_count": null,
   "id": "D88SmESs_Ivv",
   "metadata": {
    "id": "D88SmESs_Ivv"
   },
   "outputs": [],
   "source": [
    "# Defining a Bidirectional LSTM model\n",
    "\n",
    "model_BiLSTM = Sequential()\n",
    "\n",
    "# Embedding layer\n",
    "model_BiLSTM.add(Embedding(input_dim=max_features,\n",
    "                                              output_dim=embedding_dim,\n",
    "                                              trainable=False,\n",
    "                                              embeddings_initializer=Constant(twitter_embedding_matrix),\n",
    "                                              input_length=max_text_len,\n",
    "                                              name=\"Embedding\"))\n",
    "\n",
    "# Hidden layers\n",
    "model_BiLSTM.add(Dense(embedding_dim, activation='relu', name=\"Dense1\"))\n",
    "model_BiLSTM.add(Bidirectional(LSTM(128, return_sequences=True, name=\"Bi_LSTM\"))) \n",
    "model_BiLSTM.add(Dense(64, name=\"Dense2\"))\n",
    "model_BiLSTM.add(SpatialDropout1D(rate=0.25))\n",
    "model_BiLSTM.add(Dense(32, name=\"Dense3\"))\n",
    "\n",
    "# Output layer\n",
    "model_BiLSTM.add(Dense(1, activation='sigmoid', name=\"Output\"))"
   ]
  },
  {
   "cell_type": "code",
   "execution_count": null,
   "id": "EBjqg7rwBDfN",
   "metadata": {
    "id": "EBjqg7rwBDfN"
   },
   "outputs": [],
   "source": [
    "# Compiling the Bidirectional LSTM model\n",
    "\n",
    "adam = optimizers.Adam(lr=0.00001)\n",
    "model_BiLSTM.compile(loss='binary_crossentropy', \n",
    "                                  optimizer=adam, \n",
    "                                  metrics=['accuracy'])"
   ]
  },
  {
   "cell_type": "code",
   "execution_count": null,
   "id": "KYn-0fv9CByG",
   "metadata": {
    "colab": {
     "base_uri": "https://localhost:8080/"
    },
    "executionInfo": {
     "elapsed": 24,
     "status": "ok",
     "timestamp": 1669722435190,
     "user": {
      "displayName": "Vandana Kaarthik",
      "userId": "07645979193492493987"
     },
     "user_tz": -330
    },
    "id": "KYn-0fv9CByG",
    "outputId": "6e1d6c91-bd16-48f2-c31d-50e87822860b"
   },
   "outputs": [
    {
     "name": "stdout",
     "output_type": "stream",
     "text": [
      "Model: \"sequential_17\"\n",
      "_________________________________________________________________\n",
      " Layer (type)                Output Shape              Param #   \n",
      "=================================================================\n",
      " Embedding (Embedding)       (None, 60, 300)           3000000   \n",
      "                                                                 \n",
      " Dense1 (Dense)              (None, 60, 300)           90300     \n",
      "                                                                 \n",
      " bidirectional_13 (Bidirecti  (None, 60, 256)          439296    \n",
      " onal)                                                           \n",
      "                                                                 \n",
      " Dense2 (Dense)              (None, 60, 64)            16448     \n",
      "                                                                 \n",
      " spatial_dropout1d_7 (Spatia  (None, 60, 64)           0         \n",
      " lDropout1D)                                                     \n",
      "                                                                 \n",
      " Dense3 (Dense)              (None, 60, 32)            2080      \n",
      "                                                                 \n",
      " Output (Dense)              (None, 60, 1)             33        \n",
      "                                                                 \n",
      "=================================================================\n",
      "Total params: 3,548,157\n",
      "Trainable params: 548,157\n",
      "Non-trainable params: 3,000,000\n",
      "_________________________________________________________________\n"
     ]
    }
   ],
   "source": [
    "# Model Summary\n",
    "\n",
    "model_BiLSTM.summary()"
   ]
  },
  {
   "cell_type": "markdown",
   "id": "63cdd8be-2b2d-4abf-aa24-04fca702b66f",
   "metadata": {
    "id": "63cdd8be-2b2d-4abf-aa24-04fca702b66f"
   },
   "source": [
    "<h4 style=\"color:indianred\"><em>10. <ins>Fitting the model and checking the validation accuracy:</ins></em></h4>"
   ]
  },
  {
   "cell_type": "code",
   "execution_count": null,
   "id": "f0defc8d-9788-433c-8e27-428ff36c4339",
   "metadata": {
    "id": "f0defc8d-9788-433c-8e27-428ff36c4339"
   },
   "outputs": [],
   "source": [
    "# Function that returns the callbacks to be used in the model\n",
    "\n",
    "def model_callbacks():\n",
    "    \"\"\"Returns the callbacks to be used in the model\n",
    "    \n",
    "    Returns:    \n",
    "        (list): List of callbacks \n",
    "    \"\"\"\n",
    "    monitor_val_acc = EarlyStopping(monitor='val_loss', patience=50)\n",
    "    model_Checkpoint = ModelCheckpoint('best_model.hdf5', save_best_only=True)\n",
    "    reduce_lr = ReduceLROnPlateau(monitor='val_loss', factor=0.1, patience=5, min_lr=0.0000001, mode='auto')\n",
    "\n",
    "    return [model_Checkpoint, monitor_val_acc, reduce_lr]"
   ]
  },
  {
   "cell_type": "code",
   "execution_count": null,
   "id": "7Y6GB_TICRks",
   "metadata": {
    "colab": {
     "base_uri": "https://localhost:8080/"
    },
    "executionInfo": {
     "elapsed": 265176,
     "status": "ok",
     "timestamp": 1669722706116,
     "user": {
      "displayName": "Vandana Kaarthik",
      "userId": "07645979193492493987"
     },
     "user_tz": -330
    },
    "id": "7Y6GB_TICRks",
    "outputId": "2c6afac6-6520-447c-d536-010555d98ef0"
   },
   "outputs": [
    {
     "name": "stdout",
     "output_type": "stream",
     "text": [
      "Epoch 1/30\n",
      "312/312 [==============================] - 12s 28ms/step - loss: 0.6920 - accuracy: 0.5256 - val_loss: 0.6899 - val_accuracy: 0.5388\n",
      "Epoch 2/30\n",
      "312/312 [==============================] - 8s 26ms/step - loss: 0.6872 - accuracy: 0.5479 - val_loss: 0.6831 - val_accuracy: 0.5618\n",
      "Epoch 3/30\n",
      "312/312 [==============================] - 8s 25ms/step - loss: 0.6613 - accuracy: 0.6092 - val_loss: 0.5714 - val_accuracy: 0.7130\n",
      "Epoch 4/30\n",
      "312/312 [==============================] - 8s 25ms/step - loss: 0.5184 - accuracy: 0.7489 - val_loss: 0.4947 - val_accuracy: 0.7652\n",
      "Epoch 5/30\n",
      "312/312 [==============================] - 8s 25ms/step - loss: 0.4808 - accuracy: 0.7738 - val_loss: 0.4708 - val_accuracy: 0.7792\n",
      "Epoch 6/30\n",
      "312/312 [==============================] - 8s 25ms/step - loss: 0.4620 - accuracy: 0.7854 - val_loss: 0.4581 - val_accuracy: 0.7885\n",
      "Epoch 7/30\n",
      "312/312 [==============================] - 8s 25ms/step - loss: 0.4484 - accuracy: 0.7929 - val_loss: 0.4452 - val_accuracy: 0.7961\n",
      "Epoch 8/30\n",
      "312/312 [==============================] - 8s 25ms/step - loss: 0.4369 - accuracy: 0.8009 - val_loss: 0.4360 - val_accuracy: 0.8017\n",
      "Epoch 9/30\n",
      "312/312 [==============================] - 8s 25ms/step - loss: 0.4256 - accuracy: 0.8065 - val_loss: 0.4280 - val_accuracy: 0.8054\n",
      "Epoch 10/30\n",
      "312/312 [==============================] - 8s 25ms/step - loss: 0.4157 - accuracy: 0.8128 - val_loss: 0.4189 - val_accuracy: 0.8110\n",
      "Epoch 11/30\n",
      "312/312 [==============================] - 8s 26ms/step - loss: 0.4073 - accuracy: 0.8167 - val_loss: 0.4123 - val_accuracy: 0.8126\n",
      "Epoch 12/30\n",
      "312/312 [==============================] - 8s 24ms/step - loss: 0.3989 - accuracy: 0.8221 - val_loss: 0.4053 - val_accuracy: 0.8164\n",
      "Epoch 13/30\n",
      "312/312 [==============================] - 8s 24ms/step - loss: 0.3907 - accuracy: 0.8265 - val_loss: 0.4046 - val_accuracy: 0.8167\n",
      "Epoch 14/30\n",
      "312/312 [==============================] - 8s 24ms/step - loss: 0.3842 - accuracy: 0.8299 - val_loss: 0.3937 - val_accuracy: 0.8216\n",
      "Epoch 15/30\n",
      "312/312 [==============================] - 8s 25ms/step - loss: 0.3763 - accuracy: 0.8339 - val_loss: 0.3880 - val_accuracy: 0.8240\n",
      "Epoch 16/30\n",
      "312/312 [==============================] - 8s 25ms/step - loss: 0.3695 - accuracy: 0.8366 - val_loss: 0.3847 - val_accuracy: 0.8256\n",
      "Epoch 17/30\n",
      "312/312 [==============================] - 8s 25ms/step - loss: 0.3637 - accuracy: 0.8396 - val_loss: 0.3803 - val_accuracy: 0.8281\n",
      "Epoch 18/30\n",
      "312/312 [==============================] - 8s 25ms/step - loss: 0.3593 - accuracy: 0.8425 - val_loss: 0.3762 - val_accuracy: 0.8303\n",
      "Epoch 19/30\n",
      "312/312 [==============================] - 8s 25ms/step - loss: 0.3544 - accuracy: 0.8449 - val_loss: 0.3731 - val_accuracy: 0.8325\n",
      "Epoch 20/30\n",
      "312/312 [==============================] - 8s 25ms/step - loss: 0.3477 - accuracy: 0.8480 - val_loss: 0.3708 - val_accuracy: 0.8327\n",
      "Epoch 21/30\n",
      "312/312 [==============================] - 8s 25ms/step - loss: 0.3444 - accuracy: 0.8488 - val_loss: 0.3701 - val_accuracy: 0.8334\n",
      "Epoch 22/30\n",
      "312/312 [==============================] - 8s 24ms/step - loss: 0.3393 - accuracy: 0.8516 - val_loss: 0.3646 - val_accuracy: 0.8362\n",
      "Epoch 23/30\n",
      "312/312 [==============================] - 8s 25ms/step - loss: 0.3355 - accuracy: 0.8543 - val_loss: 0.3626 - val_accuracy: 0.8393\n",
      "Epoch 24/30\n",
      "312/312 [==============================] - 5s 18ms/step - loss: 0.3312 - accuracy: 0.8555 - val_loss: 0.3628 - val_accuracy: 0.8392\n",
      "Epoch 25/30\n",
      "312/312 [==============================] - 8s 26ms/step - loss: 0.3280 - accuracy: 0.8574 - val_loss: 0.3606 - val_accuracy: 0.8397\n",
      "Epoch 26/30\n",
      "312/312 [==============================] - 8s 26ms/step - loss: 0.3250 - accuracy: 0.8592 - val_loss: 0.3582 - val_accuracy: 0.8408\n",
      "Epoch 27/30\n",
      "312/312 [==============================] - 8s 26ms/step - loss: 0.3213 - accuracy: 0.8602 - val_loss: 0.3561 - val_accuracy: 0.8417\n",
      "Epoch 28/30\n",
      "312/312 [==============================] - 5s 17ms/step - loss: 0.3172 - accuracy: 0.8629 - val_loss: 0.3572 - val_accuracy: 0.8417\n",
      "Epoch 29/30\n",
      "312/312 [==============================] - 8s 25ms/step - loss: 0.3135 - accuracy: 0.8642 - val_loss: 0.3541 - val_accuracy: 0.8420\n",
      "Epoch 30/30\n",
      "312/312 [==============================] - 8s 26ms/step - loss: 0.3106 - accuracy: 0.8648 - val_loss: 0.3528 - val_accuracy: 0.8450\n"
     ]
    }
   ],
   "source": [
    "# Training the model using the Bidirectional LSTM Architecture\n",
    "\n",
    "h_callback_BiLSTM = model_BiLSTM.fit(X_train, \n",
    "                                                          y_train, \n",
    "                                                          epochs=30,\n",
    "                                                          batch_size=64,\n",
    "                                                          validation_data=(X_test, y_test),\n",
    "                                                          callbacks=model_callbacks())"
   ]
  },
  {
   "cell_type": "code",
   "execution_count": null,
   "id": "ln9GthoCN6Pr",
   "metadata": {
    "colab": {
     "base_uri": "https://localhost:8080/"
    },
    "executionInfo": {
     "elapsed": 2677,
     "status": "ok",
     "timestamp": 1669722868924,
     "user": {
      "displayName": "Vandana Kaarthik",
      "userId": "07645979193492493987"
     },
     "user_tz": -330
    },
    "id": "ln9GthoCN6Pr",
    "outputId": "f02f182b-77fe-458f-d41a-c5659e362978"
   },
   "outputs": [
    {
     "name": "stdout",
     "output_type": "stream",
     "text": [
      "268/268 [==============================] - 2s 8ms/step - loss: 0.3528 - accuracy: 0.8450\n",
      "Validation accuracy: 0.8450044989585876\n"
     ]
    }
   ],
   "source": [
    "# Checking the validation accuracy of the model\n",
    "\n",
    "accuracy = model_BiLSTM.evaluate(X_test, y_test)[1]\n",
    "print(f'Validation accuracy: {accuracy}')"
   ]
  },
  {
   "cell_type": "markdown",
   "id": "qc3i0Nt39EAL",
   "metadata": {
    "id": "qc3i0Nt39EAL"
   },
   "source": [
    "<em><strong>Observation:</strong></em>\n",
    "The model has a validation accuracy of 84.5%"
   ]
  },
  {
   "cell_type": "code",
   "execution_count": null,
   "id": "eZYB-9FKF8n_",
   "metadata": {
    "colab": {
     "base_uri": "https://localhost:8080/",
     "height": 301
    },
    "executionInfo": {
     "elapsed": 849,
     "status": "ok",
     "timestamp": 1669722756166,
     "user": {
      "displayName": "Vandana Kaarthik",
      "userId": "07645979193492493987"
     },
     "user_tz": -330
    },
    "id": "eZYB-9FKF8n_",
    "outputId": "23cb9d58-c4f8-44e7-f473-1c02d98f4170"
   },
   "outputs": [
    {
     "data": {
      "image/png": "[encoded data removed]",
      "text/plain": [
       "<Figure size 432x288 with 1 Axes>"
      ]
     },
     "metadata": {},
     "output_type": "display_data"
    }
   ],
   "source": [
    "# Training Loss and Validation Loss\n",
    "\n",
    "sns.set_theme(style='white')\n",
    "plot_loss(h_callback_BiLSTM.history['loss'], h_callback_BiLSTM.history['val_loss'])"
   ]
  },
  {
   "cell_type": "code",
   "execution_count": null,
   "id": "CSP3M5OWF-u1",
   "metadata": {
    "colab": {
     "base_uri": "https://localhost:8080/",
     "height": 301
    },
    "executionInfo": {
     "elapsed": 10,
     "status": "ok",
     "timestamp": 1669722761469,
     "user": {
      "displayName": "Vandana Kaarthik",
      "userId": "07645979193492493987"
     },
     "user_tz": -330
    },
    "id": "CSP3M5OWF-u1",
    "outputId": "78654785-f953-4693-965b-6e49a31177a8"
   },
   "outputs": [
    {
     "data": {
      "image/png": "[encoded data removed]",
      "text/plain": [
       "<Figure size 432x288 with 1 Axes>"
      ]
     },
     "metadata": {},
     "output_type": "display_data"
    }
   ],
   "source": [
    "# Training Accuracy and Validation Accuracy\n",
    "\n",
    "plot_accuracy(h_callback_BiLSTM.history['accuracy'], h_callback_BiLSTM.history['val_accuracy'])"
   ]
  }
 ],
 "metadata": {
  "accelerator": "GPU",
  "colab": {
   "provenance": []
  },
  "gpuClass": "standard",
  "kernelspec": {
   "display_name": "Python 3 (ipykernel)",
   "language": "python",
   "name": "python3"
  },
  "language_info": {
   "codemirror_mode": {
    "name": "ipython",
    "version": 3
   },
   "file_extension": ".py",
   "mimetype": "text/x-python",
   "name": "python",
   "nbconvert_exporter": "python",
   "pygments_lexer": "ipython3",
   "version": "3.9.7"
  }
 },
 "nbformat": 4,
 "nbformat_minor": 5
}
